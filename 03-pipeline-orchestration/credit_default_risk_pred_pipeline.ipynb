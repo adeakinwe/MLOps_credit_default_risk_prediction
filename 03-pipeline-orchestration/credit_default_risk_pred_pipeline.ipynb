{
 "cells": [
  {
   "cell_type": "code",
   "execution_count": 1,
   "id": "8da73fa1",
   "metadata": {},
   "outputs": [],
   "source": [
    "\n",
    "import pandas as pd\n",
    "import numpy as np\n",
    "import pickle\n",
    "import mlflow\n",
    "import xgboost as xgb\n",
    "from sklearn.metrics import roc_auc_score\n",
    "from mlflow.tracking import MlflowClient\n",
    "\n",
    "# ======== CONFIGURATION ========\n",
    "x_test_path = \"../processed_data/X_test.parquet\"\n",
    "y_test_path = \"../processed_data/y_test.txt\"\n",
    "run_id = \"2c2f5792316545ed84ddf88b09b072a9\"\n",
    "model_bundle_artifact_path = \"xgb_credit_pred.bin\"\n"
   ]
  },
  {
   "cell_type": "code",
   "execution_count": 3,
   "id": "06808a44",
   "metadata": {},
   "outputs": [],
   "source": [
    "\n",
    "# ======== EVALUATION FUNCTION ========\n",
    "def evaluate_model(x_test_path, y_test_path, run_id, model_bundle_artifact_path):\n",
    "    # Load test data\n",
    "    print(\"Loading test data...\")\n",
    "    X_test = pd.read_parquet(x_test_path)\n",
    "    y_test = np.loadtxt(y_test_path)\n",
    "\n",
    "    # Set tracking URI\n",
    "    mlflow.set_tracking_uri(\"sqlite:///../cred_risk_sqlite_mlflow.db\")\n",
    "    client = MlflowClient()\n",
    "\n",
    "    # Download and load model bundle\n",
    "    print(\"Loading model + vectorizer bundle from MLflow...\")\n",
    "    bundle_path = client.download_artifacts(run_id, model_bundle_artifact_path)\n",
    "    with open(bundle_path, \"rb\") as f:\n",
    "        model_bundle = pickle.load(f)\n",
    "\n",
    "    model = model_bundle[\"model\"]\n",
    "    dv = model_bundle[\"vectorizer\"]\n",
    "\n",
    "    # Transform test data\n",
    "    cat_cols = ['AGE_GROUP', 'YEARS_EMPLOYED_GROUP', 'PHONE_CHANGE_GROUP']\n",
    "    num_cols = [\n",
    "        'REGION_RATING_CLIENT_W_CITY', 'REGION_RATING_CLIENT',\n",
    "        'EXT_SOURCE_3', 'EXT_SOURCE_2', 'EXT_SOURCE_1', 'FLOORSMAX_AVG'\n",
    "    ]\n",
    "    X_test_transformed = dv.transform(X_test[cat_cols + num_cols].to_dict(orient=\"records\"))\n",
    "\n",
    "    # Predictions (probabilities)\n",
    "    print(\"Making predictions...\")\n",
    "    dtest = xgb.DMatrix(X_test_transformed)\n",
    "    y_pred_proba = model.predict(dtest)\n",
    "\n",
    "    # AUC metric\n",
    "    auc = roc_auc_score(y_test, y_pred_proba)\n",
    "    print(f\"Test AUC: {auc:.4f}\")\n",
    "\n",
    "    # Log AUC back to MLflow\n",
    "    print(\"Logging test metrics to MLflow...\")\n",
    "    client.log_metric(run_id, \"test_auc\", auc)\n",
    "\n",
    "    print(\"Evaluation complete.\")\n"
   ]
  },
  {
   "cell_type": "code",
   "execution_count": 4,
   "id": "7904df19",
   "metadata": {},
   "outputs": [
    {
     "name": "stdout",
     "output_type": "stream",
     "text": [
      "Loading test data...\n",
      "Loading model + vectorizer bundle from MLflow...\n",
      "Making predictions...\n",
      "Test AUC: 0.7332\n",
      "Logging test metrics to MLflow...\n",
      "Evaluation complete.\n"
     ]
    }
   ],
   "source": [
    "\n",
    "# ======== RUN EVALUATION ========\n",
    "evaluate_model(x_test_path, y_test_path, run_id, model_bundle_artifact_path)\n"
   ]
  }
 ],
 "metadata": {
  "kernelspec": {
   "display_name": "credit-default-risk-venv",
   "language": "python",
   "name": "python3"
  },
  "language_info": {
   "codemirror_mode": {
    "name": "ipython",
    "version": 3
   },
   "file_extension": ".py",
   "mimetype": "text/x-python",
   "name": "python",
   "nbconvert_exporter": "python",
   "pygments_lexer": "ipython3",
   "version": "3.8.10"
  }
 },
 "nbformat": 4,
 "nbformat_minor": 5
}
