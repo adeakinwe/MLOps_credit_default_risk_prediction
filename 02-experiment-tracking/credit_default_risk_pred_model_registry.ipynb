{
 "cells": [
  {
   "cell_type": "code",
   "execution_count": 22,
   "metadata": {},
   "outputs": [],
   "source": [
    "import mlflow\n",
    "from mlflow.tracking import MlflowClient\n",
    "import pandas as pd"
   ]
  },
  {
   "cell_type": "code",
   "execution_count": 2,
   "metadata": {},
   "outputs": [],
   "source": [
    "MLFLOW_TRACKING_URI = 'sqlite:///cred_sqlite_mlflow.db'\n",
    "\n",
    "client = MlflowClient(tracking_uri=MLFLOW_TRACKING_URI)"
   ]
  },
  {
   "cell_type": "code",
   "execution_count": 3,
   "metadata": {},
   "outputs": [
    {
     "name": "stdout",
     "output_type": "stream",
     "text": [
      "Name: credit_default_risk_experiment_tracking, ID: 1, Artifact Location: /Users/mac/Projects/MLops_datatalks_project/02-experiment-tracking/mlruns/1\n",
      "Name: Default, ID: 0, Artifact Location: mlflow-artifacts:/0\n"
     ]
    }
   ],
   "source": [
    "experiments = client.search_experiments()\n",
    "\n",
    "for exp in experiments:\n",
    "    print(f\"Name: {exp.name}, ID: {exp.experiment_id}, Artifact Location: {exp.artifact_location}\")"
   ]
  },
  {
   "cell_type": "code",
   "execution_count": 4,
   "metadata": {},
   "outputs": [],
   "source": [
    "from mlflow.entities import ViewType\n",
    "\n",
    "runs = client.search_runs(\n",
    "    experiment_ids = '1',\n",
    "    filter_string = 'metrics.auc > 0.733',\n",
    "    run_view_type = ViewType.ACTIVE_ONLY,\n",
    "    max_results = 5,\n",
    "    order_by = ['metrics.auc ASC']\n",
    ")"
   ]
  },
  {
   "cell_type": "code",
   "execution_count": 7,
   "metadata": {},
   "outputs": [
    {
     "name": "stdout",
     "output_type": "stream",
     "text": [
      "runId: 2c2f5792316545ed84ddf88b09b072a9, auc: 0.7340\n",
      "runId: f7221513467b4f8ea15d8ca3054c8224, auc: 0.7340\n",
      "runId: c52ab90a9f3241f09a8b9db4829140e4, auc: 0.7340\n"
     ]
    }
   ],
   "source": [
    "for run in runs:\n",
    "    print(f\"runId: {run.info.run_id}, auc: {run.data.metrics['auc']:.4f}\")"
   ]
  },
  {
   "cell_type": "code",
   "execution_count": 8,
   "metadata": {},
   "outputs": [],
   "source": [
    "mlflow.set_tracking_uri(MLFLOW_TRACKING_URI)"
   ]
  },
  {
   "cell_type": "code",
   "execution_count": 9,
   "metadata": {},
   "outputs": [
    {
     "name": "stderr",
     "output_type": "stream",
     "text": [
      "Successfully registered model 'credit_default_risk_xgb_model_v2'.\n",
      "Created version '1' of model 'credit_default_risk_xgb_model_v2'.\n"
     ]
    },
    {
     "data": {
      "text/plain": [
       "<ModelVersion: aliases=[], creation_timestamp=1754337563297, current_stage='None', description=None, last_updated_timestamp=1754337563297, name='credit_default_risk_xgb_model_v2', run_id='c52ab90a9f3241f09a8b9db4829140e4', run_link=None, source='/Users/mac/Projects/MLops_datatalks_project/02-experiment-tracking/mlruns/1/c52ab90a9f3241f09a8b9db4829140e4/artifacts/models/xgboost_model', status='READY', status_message=None, tags={}, user_id=None, version=1>"
      ]
     },
     "execution_count": 9,
     "metadata": {},
     "output_type": "execute_result"
    }
   ],
   "source": [
    "run_id = 'c52ab90a9f3241f09a8b9db4829140e4'\n",
    "model_uri = f'runs:/{run_id}/models/xgboost_model'\n",
    "mlflow.register_model(model_uri=model_uri,name='credit_default_risk_xgb_model_v2')"
   ]
  },
  {
   "cell_type": "code",
   "execution_count": 19,
   "metadata": {},
   "outputs": [
    {
     "name": "stdout",
     "output_type": "stream",
     "text": [
      "version: 1, stage: None\n",
      "version: 2, stage: Production\n"
     ]
    },
    {
     "name": "stderr",
     "output_type": "stream",
     "text": [
      "/var/folders/gy/0jy_9kfn7c5b6pxfsksq3m8w0000gn/T/ipykernel_30729/3326168028.py:2: FutureWarning: ``mlflow.tracking.client.MlflowClient.get_latest_versions`` is deprecated since 2.9.0. Model registry stages will be removed in a future major release. To learn more about the deprecation of model registry stages, see our migration guide here: https://mlflow.org/docs/latest/model-registry.html#migrating-from-stages\n",
      "  latest_versions = client.get_latest_versions(name=model_name)\n"
     ]
    }
   ],
   "source": [
    "model_name = 'credit_default_risk_xgb_model_v1'\n",
    "latest_versions = client.get_latest_versions(name=model_name)\n",
    "    \n",
    "for version in latest_versions:\n",
    "    print(f'version: {version.version}, stage: {version.current_stage}')"
   ]
  },
  {
   "cell_type": "code",
   "execution_count": 15,
   "metadata": {},
   "outputs": [],
   "source": [
    "model_version = 2\n",
    "new_stage = 'Staging'"
   ]
  },
  {
   "cell_type": "code",
   "execution_count": 17,
   "metadata": {},
   "outputs": [],
   "source": [
    "model_version = 2\n",
    "new_stage = 'Production'"
   ]
  },
  {
   "cell_type": "code",
   "execution_count": 18,
   "metadata": {},
   "outputs": [
    {
     "name": "stderr",
     "output_type": "stream",
     "text": [
      "/var/folders/gy/0jy_9kfn7c5b6pxfsksq3m8w0000gn/T/ipykernel_30729/227647614.py:1: FutureWarning: ``mlflow.tracking.client.MlflowClient.transition_model_version_stage`` is deprecated since 2.9.0. Model registry stages will be removed in a future major release. To learn more about the deprecation of model registry stages, see our migration guide here: https://mlflow.org/docs/latest/model-registry.html#migrating-from-stages\n",
      "  client.transition_model_version_stage(\n"
     ]
    },
    {
     "data": {
      "text/plain": [
       "<ModelVersion: aliases=[], creation_timestamp=1754335560720, current_stage='Production', description='', last_updated_timestamp=1754337908831, name='credit_default_risk_xgb_model_v1', run_id='2c2f5792316545ed84ddf88b09b072a9', run_link='', source='models:/credit_default_risk_xgb_model_v1/1', status='READY', status_message=None, tags={}, user_id=None, version=2>"
      ]
     },
     "execution_count": 18,
     "metadata": {},
     "output_type": "execute_result"
    }
   ],
   "source": [
    "client.transition_model_version_stage(\n",
    "    name=model_name,\n",
    "    version=model_version,\n",
    "    stage=new_stage,\n",
    "    archive_existing_versions=False\n",
    ")"
   ]
  },
  {
   "cell_type": "code",
   "execution_count": 20,
   "metadata": {},
   "outputs": [],
   "source": [
    "from datetime import datetime as dt"
   ]
  },
  {
   "cell_type": "code",
   "execution_count": 21,
   "metadata": {},
   "outputs": [
    {
     "data": {
      "text/plain": [
       "<ModelVersion: aliases=[], creation_timestamp=1754335560720, current_stage='Production', description='model version 2 was transitioned to Production on 2025-08-04 21:05:31.866639', last_updated_timestamp=1754337931867, name='credit_default_risk_xgb_model_v1', run_id='2c2f5792316545ed84ddf88b09b072a9', run_link='', source='models:/credit_default_risk_xgb_model_v1/1', status='READY', status_message=None, tags={}, user_id=None, version=2>"
      ]
     },
     "execution_count": 21,
     "metadata": {},
     "output_type": "execute_result"
    }
   ],
   "source": [
    "client.update_model_version(\n",
    "    name=model_name,\n",
    "    version=model_version,\n",
    "    description=f'model version {model_version} was transitioned to {new_stage} on {dt.today().now() }'\n",
    ")"
   ]
  },
  {
   "cell_type": "code",
   "execution_count": 23,
   "metadata": {},
   "outputs": [],
   "source": [
    "test_df = pd.read_parquet('../processed_data/X_test.parquet')"
   ]
  },
  {
   "cell_type": "code",
   "execution_count": 25,
   "metadata": {},
   "outputs": [
    {
     "data": {
      "text/html": [
       "<div>\n",
       "<style scoped>\n",
       "    .dataframe tbody tr th:only-of-type {\n",
       "        vertical-align: middle;\n",
       "    }\n",
       "\n",
       "    .dataframe tbody tr th {\n",
       "        vertical-align: top;\n",
       "    }\n",
       "\n",
       "    .dataframe thead th {\n",
       "        text-align: right;\n",
       "    }\n",
       "</style>\n",
       "<table border=\"1\" class=\"dataframe\">\n",
       "  <thead>\n",
       "    <tr style=\"text-align: right;\">\n",
       "      <th></th>\n",
       "      <th>REGION_RATING_CLIENT_W_CITY</th>\n",
       "      <th>REGION_RATING_CLIENT</th>\n",
       "      <th>EXT_SOURCE_3</th>\n",
       "      <th>EXT_SOURCE_2</th>\n",
       "      <th>EXT_SOURCE_1</th>\n",
       "      <th>FLOORSMAX_AVG</th>\n",
       "      <th>AGE_GROUP</th>\n",
       "      <th>YEARS_EMPLOYED_GROUP</th>\n",
       "      <th>PHONE_CHANGE_GROUP</th>\n",
       "    </tr>\n",
       "  </thead>\n",
       "  <tbody>\n",
       "    <tr>\n",
       "      <th>17424</th>\n",
       "      <td>3</td>\n",
       "      <td>3</td>\n",
       "      <td>0.441836</td>\n",
       "      <td>0.286877</td>\n",
       "      <td>0.559264</td>\n",
       "      <td>0.1667</td>\n",
       "      <td>Youth</td>\n",
       "      <td>1-5 yrs</td>\n",
       "      <td>Recent</td>\n",
       "    </tr>\n",
       "    <tr>\n",
       "      <th>305296</th>\n",
       "      <td>2</td>\n",
       "      <td>2</td>\n",
       "      <td>0.472253</td>\n",
       "      <td>0.705166</td>\n",
       "      <td>0.456198</td>\n",
       "      <td>0.1667</td>\n",
       "      <td>Youth</td>\n",
       "      <td>1-5 yrs</td>\n",
       "      <td>Old</td>\n",
       "    </tr>\n",
       "    <tr>\n",
       "      <th>17224</th>\n",
       "      <td>2</td>\n",
       "      <td>2</td>\n",
       "      <td>0.684828</td>\n",
       "      <td>0.590742</td>\n",
       "      <td>0.626568</td>\n",
       "      <td>0.0417</td>\n",
       "      <td>Youth</td>\n",
       "      <td>1-5 yrs</td>\n",
       "      <td>Moderate</td>\n",
       "    </tr>\n",
       "    <tr>\n",
       "      <th>215169</th>\n",
       "      <td>2</td>\n",
       "      <td>2</td>\n",
       "      <td>0.574447</td>\n",
       "      <td>0.092250</td>\n",
       "      <td>0.505998</td>\n",
       "      <td>0.1667</td>\n",
       "      <td>Middle_Age</td>\n",
       "      <td>unemployed and &lt;1 yr</td>\n",
       "      <td>Moderate</td>\n",
       "    </tr>\n",
       "    <tr>\n",
       "      <th>181299</th>\n",
       "      <td>2</td>\n",
       "      <td>2</td>\n",
       "      <td>0.417100</td>\n",
       "      <td>0.631203</td>\n",
       "      <td>0.505998</td>\n",
       "      <td>0.0000</td>\n",
       "      <td>Middle_Age</td>\n",
       "      <td>1-5 yrs</td>\n",
       "      <td>Moderate</td>\n",
       "    </tr>\n",
       "  </tbody>\n",
       "</table>\n",
       "</div>"
      ],
      "text/plain": [
       "        REGION_RATING_CLIENT_W_CITY  REGION_RATING_CLIENT  EXT_SOURCE_3  \\\n",
       "17424                             3                     3      0.441836   \n",
       "305296                            2                     2      0.472253   \n",
       "17224                             2                     2      0.684828   \n",
       "215169                            2                     2      0.574447   \n",
       "181299                            2                     2      0.417100   \n",
       "\n",
       "        EXT_SOURCE_2  EXT_SOURCE_1  FLOORSMAX_AVG   AGE_GROUP  \\\n",
       "17424       0.286877      0.559264         0.1667       Youth   \n",
       "305296      0.705166      0.456198         0.1667       Youth   \n",
       "17224       0.590742      0.626568         0.0417       Youth   \n",
       "215169      0.092250      0.505998         0.1667  Middle_Age   \n",
       "181299      0.631203      0.505998         0.0000  Middle_Age   \n",
       "\n",
       "        YEARS_EMPLOYED_GROUP PHONE_CHANGE_GROUP  \n",
       "17424                1-5 yrs             Recent  \n",
       "305296               1-5 yrs                Old  \n",
       "17224                1-5 yrs           Moderate  \n",
       "215169  unemployed and <1 yr           Moderate  \n",
       "181299               1-5 yrs           Moderate  "
      ]
     },
     "execution_count": 25,
     "metadata": {},
     "output_type": "execute_result"
    }
   ],
   "source": [
    "test_df.head()"
   ]
  },
  {
   "cell_type": "code",
   "execution_count": 33,
   "metadata": {},
   "outputs": [
    {
     "data": {
      "application/vnd.jupyter.widget-view+json": {
       "model_id": "9d55bc1f1ec94d4996d2bcfe36e87677",
       "version_major": 2,
       "version_minor": 0
      },
      "text/plain": [
       "Downloading artifacts:   0%|          | 0/5 [00:00<?, ?it/s]"
      ]
     },
     "metadata": {},
     "output_type": "display_data"
    },
    {
     "data": {
      "text/plain": [
       "'/Users/mac/Projects/MLops_datatalks_project/02-experiment-tracking/'"
      ]
     },
     "execution_count": 33,
     "metadata": {},
     "output_type": "execute_result"
    }
   ],
   "source": [
    "client.download_artifacts(run_id=run_id, path='', dst_path='.')"
   ]
  },
  {
   "cell_type": "code",
   "execution_count": null,
   "metadata": {},
   "outputs": [],
   "source": [
    "import pickle\n",
    "\n",
    "with open('models/model.xgb', 'rb') as f_in:\n",
    "    dv = pickle.load(f_in)"
   ]
  },
  {
   "cell_type": "code",
   "execution_count": null,
   "metadata": {},
   "outputs": [],
   "source": []
  }
 ],
 "metadata": {
  "kernelspec": {
   "display_name": "credit-default-risk-venv",
   "language": "python",
   "name": "python3"
  },
  "language_info": {
   "name": "python",
   "version": "3.8.10"
  }
 },
 "nbformat": 4,
 "nbformat_minor": 2
}
