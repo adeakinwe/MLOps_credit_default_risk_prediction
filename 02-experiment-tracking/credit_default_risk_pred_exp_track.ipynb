{
 "cells": [
  {
   "cell_type": "code",
   "execution_count": 1,
   "id": "50944570",
   "metadata": {},
   "outputs": [
    {
     "name": "stdout",
     "output_type": "stream",
     "text": [
      "Python 3.8.10\n"
     ]
    }
   ],
   "source": [
    "!python --version"
   ]
  },
  {
   "cell_type": "markdown",
   "id": "16d41e03-6f07-49c3-a028-63d0bcf6867c",
   "metadata": {
    "id": "16d41e03-6f07-49c3-a028-63d0bcf6867c"
   },
   "source": [
    "IMPORT LIBRARIES"
   ]
  },
  {
   "cell_type": "code",
   "execution_count": 2,
   "id": "25396635-459d-4978-ba53-5953fde5a395",
   "metadata": {
    "id": "25396635-459d-4978-ba53-5953fde5a395"
   },
   "outputs": [],
   "source": [
    "import warnings\n",
    "warnings.filterwarnings('ignore')\n",
    "\n",
    "import numpy as np\n",
    "import pandas as pd\n",
    "\n",
    "from sklearn.feature_extraction import DictVectorizer\n",
    "from sklearn.linear_model import LogisticRegression\n",
    "\n",
    "from sklearn.metrics import roc_auc_score\n",
    "from sklearn.metrics import accuracy_score\n",
    "\n",
    "import xgboost as xgb\n",
    "import pickle"
   ]
  },
  {
   "cell_type": "markdown",
   "id": "71ce2c8b-926b-44bf-935f-cb0d0cad1029",
   "metadata": {
    "id": "71ce2c8b-926b-44bf-935f-cb0d0cad1029"
   },
   "source": [
    "STANDARDIZATION"
   ]
  },
  {
   "cell_type": "code",
   "execution_count": 3,
   "id": "7bf911c5",
   "metadata": {},
   "outputs": [],
   "source": [
    "X_train = pd.read_parquet('../processed_data/X_train.parquet')\n",
    "X_val = pd.read_parquet('../processed_data/X_val.parquet')\n",
    "\n",
    "y_train = np.loadtxt('../processed_data/y_train.txt').astype(int)\n",
    "y_val = np.loadtxt('../processed_data/y_val.txt').astype(int)"
   ]
  },
  {
   "cell_type": "code",
   "execution_count": 4,
   "id": "d9f2d6e2-1c27-4c17-ad7f-011d63784581",
   "metadata": {
    "id": "d9f2d6e2-1c27-4c17-ad7f-011d63784581"
   },
   "outputs": [],
   "source": [
    "# Seperation of columns into numeric and categorical columns\n",
    "num_cols = np.array(X_train.select_dtypes(include= ['int64','float64']).columns).tolist()\n",
    "cat_cols = np.array(X_train.select_dtypes(include= ['category','object']).columns).tolist()"
   ]
  },
  {
   "cell_type": "code",
   "execution_count": 5,
   "id": "6911930c",
   "metadata": {},
   "outputs": [
    {
     "name": "stdout",
     "output_type": "stream",
     "text": [
      "['AGE_GROUP', 'YEARS_EMPLOYED_GROUP', 'PHONE_CHANGE_GROUP']\n",
      "['REGION_RATING_CLIENT_W_CITY', 'REGION_RATING_CLIENT', 'EXT_SOURCE_3', 'EXT_SOURCE_2', 'EXT_SOURCE_1', 'FLOORSMAX_AVG']\n",
      "set()\n"
     ]
    }
   ],
   "source": [
    "print(cat_cols)\n",
    "print(num_cols)\n",
    "print(set(cat_cols + num_cols) - set(X_train.columns))  # Should be empty"
   ]
  },
  {
   "cell_type": "code",
   "execution_count": 6,
   "id": "d7133ac3",
   "metadata": {},
   "outputs": [],
   "source": [
    "train_dicts = X_train[cat_cols + num_cols].to_dict(orient='records')\n",
    "val_dicts = X_val[cat_cols + num_cols].to_dict(orient='records')"
   ]
  },
  {
   "cell_type": "code",
   "execution_count": 7,
   "id": "0adc212c",
   "metadata": {},
   "outputs": [],
   "source": [
    "dv = DictVectorizer()\n",
    "X_train = dv.fit_transform(train_dicts)\n",
    "X_val = dv.transform(val_dicts)"
   ]
  },
  {
   "cell_type": "markdown",
   "id": "8f2c18c1",
   "metadata": {},
   "source": [
    "EXPERIMENT TRACKING"
   ]
  },
  {
   "cell_type": "code",
   "execution_count": 8,
   "id": "d7bb7067",
   "metadata": {},
   "outputs": [
    {
     "name": "stderr",
     "output_type": "stream",
     "text": [
      "2025/08/10 10:25:22 INFO mlflow.tracking.fluent: Experiment with name 'credit_default_risk_experiment_tracking' does not exist. Creating a new experiment.\n"
     ]
    },
    {
     "data": {
      "text/plain": [
       "<Experiment: artifact_location='/Users/mac/Projects/MLops_credit_default_risk_prediction/02-experiment-tracking/mlruns/1', creation_time=1754817922741, experiment_id='1', last_update_time=1754817922741, lifecycle_stage='active', name='credit_default_risk_experiment_tracking', tags={}>"
      ]
     },
     "execution_count": 8,
     "metadata": {},
     "output_type": "execute_result"
    }
   ],
   "source": [
    "import mlflow\n",
    "\n",
    "mlflow.set_tracking_uri('sqlite:///../cred_risk_sqlite_mlflow.db')\n",
    "mlflow.set_experiment('credit_default_risk_experiment_tracking')"
   ]
  },
  {
   "cell_type": "code",
   "execution_count": 9,
   "id": "e11b6ceb",
   "metadata": {},
   "outputs": [],
   "source": [
    "\n",
    "with mlflow.start_run():\n",
    "    mlflow.set_tag(\"engineer\", \"adeakinwe\")\n",
    "    mlflow.set_tag(\"model\", \"Logistic Regression\")\n",
    "\n",
    "    mlflow.log_param(\"train_data_path\", \"../processed_data/X_train.parquet\")\n",
    "    mlflow.log_param(\"val_data_path\", \"../processed_data/X_val.parquet\")\n",
    "\n",
    "    lr = LogisticRegression(class_weight='balanced')\n",
    "    lr.fit(X_train, y_train)\n",
    "\n",
    "    y_pred = lr.predict(X_val)\n",
    "    y_proba = lr.predict_proba(X_val)[:, 1]\n",
    "\n",
    "    accuracy = round(accuracy_score(y_val, y_pred), 3)\n",
    "    auc = round(roc_auc_score(y_val, y_proba), 3)\n",
    "\n",
    "    mlflow.log_metric(\"accuracy\", accuracy)\n",
    "    mlflow.log_metric(\"auc\", auc)"
   ]
  },
  {
   "cell_type": "code",
   "execution_count": 10,
   "id": "743c0714",
   "metadata": {},
   "outputs": [],
   "source": [
    "with mlflow.start_run():\n",
    "    mlflow.set_tag(\"engineer\", \"adeakinwe\")\n",
    "    mlflow.set_tag(\"model\", \"XGBoost\")\n",
    "\n",
    "    mlflow.log_param(\"train_data_path\", \"../processed_data/X_train.parquet\")\n",
    "    mlflow.log_param(\"val_data_path\", \"../processed_data/X_val.parquet\")\n",
    "\n",
    "    # Prepare DMatrix\n",
    "    dtrain = xgb.DMatrix(X_train, label=y_train)\n",
    "    dval = xgb.DMatrix(X_val, label=y_val)\n",
    "\n",
    "    # Compute scale_pos_weight if needed\n",
    "    class_counts = pd.Series(y_train).value_counts()\n",
    "    scale_pos_weight = class_counts[0] / class_counts[1]\n",
    "\n",
    "    # XGBoost params\n",
    "    params = {\n",
    "        \"objective\": \"binary:logistic\",\n",
    "        \"eval_metric\": \"auc\",\n",
    "        \"scale_pos_weight\": scale_pos_weight,\n",
    "    }\n",
    "\n",
    "    mlflow.log_param(\"scale_pos_weight\", scale_pos_weight)\n",
    "\n",
    "    # Train with early stopping\n",
    "    model = xgb.train(\n",
    "        params=params,\n",
    "        dtrain=dtrain,\n",
    "        num_boost_round=100,\n",
    "        evals=[(dtrain, \"train\"), (dval, \"eval\")],\n",
    "        early_stopping_rounds=50,\n",
    "        verbose_eval=False\n",
    "    )\n",
    "\n",
    "    # Predict and evaluate\n",
    "    y_pred_proba = model.predict(dval)\n",
    "    y_pred = (y_pred_proba > 0.5).astype(int)\n",
    "\n",
    "    accuracy = round(accuracy_score(y_val, y_pred), 3)\n",
    "    auc = round(roc_auc_score(y_val, y_pred_proba), 3)\n",
    "\n",
    "    mlflow.log_metric(\"accuracy\", accuracy)\n",
    "    mlflow.log_metric(\"auc\", auc)"
   ]
  },
  {
   "cell_type": "markdown",
   "id": "3495dbcd",
   "metadata": {},
   "source": [
    "HYPER-PARAMETER TUNING"
   ]
  },
  {
   "cell_type": "code",
   "execution_count": 11,
   "id": "0bb7c7f8",
   "metadata": {},
   "outputs": [],
   "source": [
    "from hyperopt import fmin, tpe, hp, Trials, STATUS_OK\n",
    "from hyperopt.pyll import scope\n",
    "import mlflow.xgboost"
   ]
  },
  {
   "cell_type": "code",
   "execution_count": null,
   "id": "82c1e082",
   "metadata": {},
   "outputs": [],
   "source": [
    "# Search space for hyperopt\n",
    "search_space = {\n",
    "    'max_depth': scope.int(hp.quniform('max_depth', 4, 100, 1)),\n",
    "    'learning_rate': hp.loguniform('learning_rate', -3, 0),\n",
    "    'reg_alpha': hp.loguniform('reg_alpha', -5, -1),\n",
    "    'reg_lambda': hp.loguniform('reg_lambda', -6, -1),\n",
    "    'min_child_weight': hp.loguniform('min_child_weight', -1, 3),\n",
    "    'subsample': hp.uniform('subsample', 0.5, 1.0),\n",
    "    'colsample_bytree': hp.uniform('colsample_bytree', 0.5, 1.0),\n",
    "}\n",
    "\n",
    "# Objective function for hyperopt\n",
    "def objective(params):\n",
    "    # Calculate imbalance ratio\n",
    "    neg, pos = np.bincount(y_train)\n",
    "    scale_pos_weight = neg / pos\n",
    "\n",
    "    # Add required static params\n",
    "    params['objective'] = 'binary:logistic'\n",
    "    params['seed'] = 42\n",
    "    params['eval_metric'] = 'auc'\n",
    "    params['scale_pos_weight'] = scale_pos_weight\n",
    "\n",
    "    run_name = f\"xgb-md{params['max_depth']}-lr{params['learning_rate']:.3f}\"\n",
    "\n",
    "    with mlflow.start_run(nested=True, run_name=run_name):\n",
    "        mlflow.set_tag(\"model\", \"XGBoost\")\n",
    "        mlflow.set_tag(\"engineer\", \"adeakinwe\")\n",
    "\n",
    "        mlflow.log_param(\"train_data\", \"../processed_data/X_train.parquet\")\n",
    "        mlflow.log_param(\"val_data\", \"../processed_data/X_val.parquet\")\n",
    "\n",
    "        mlflow.log_params({k: round(v, 5) if isinstance(v, float) else v for k, v in params.items()})\n",
    "\n",
    "        dtrain = xgb.DMatrix(X_train, label=y_train)\n",
    "        dval = xgb.DMatrix(X_val, label=y_val)\n",
    "\n",
    "        model = xgb.train(\n",
    "            params,\n",
    "            dtrain,\n",
    "            num_boost_round=100,\n",
    "            evals=[(dval, 'eval')],\n",
    "            early_stopping_rounds=50,\n",
    "            verbose_eval=10\n",
    "        )\n",
    "\n",
    "        y_pred_proba = model.predict(dval)\n",
    "        y_pred = (y_pred_proba > 0.5).astype(int)\n",
    "\n",
    "        accuracy = round(accuracy_score(y_val, y_pred), 3)\n",
    "        auc = round(roc_auc_score(y_val, y_pred_proba), 3)\n",
    "\n",
    "        mlflow.log_metric(\"accuracy\", accuracy)\n",
    "        mlflow.log_metric(\"auc\", auc)\n",
    "\n",
    "        mlflow.xgboost.log_model(model, artifact_path=\"models\")\n",
    "\n",
    "        return {'loss': -auc, 'status': STATUS_OK}\n",
    "\n",
    "# Run outer MLflow parent run\n",
    "with mlflow.start_run(run_name=\"xgboost-hyperopt\"):\n",
    "    trials = Trials()\n",
    "    best_result = fmin(\n",
    "        fn=objective,\n",
    "        space=search_space,\n",
    "        algo=tpe.suggest,\n",
    "        max_evals=50,\n",
    "        trials=trials\n",
    "    )\n",
    "\n",
    "    # Log best hyperparameters found\n",
    "    mlflow.log_params({f\"best_{k}\": v for k, v in best_result.items()})"
   ]
  },
  {
   "cell_type": "markdown",
   "id": "b05bd775",
   "metadata": {},
   "source": [
    "train and save best model"
   ]
  },
  {
   "cell_type": "code",
   "execution_count": 17,
   "id": "1d5431da",
   "metadata": {},
   "outputs": [
    {
     "name": "stdout",
     "output_type": "stream",
     "text": [
      "[0]\teval-auc:0.66864\n",
      "[10]\teval-auc:0.72431\n",
      "[20]\teval-auc:0.72766\n",
      "[30]\teval-auc:0.72943\n",
      "[40]\teval-auc:0.73074\n",
      "[50]\teval-auc:0.73158\n",
      "[60]\teval-auc:0.73207\n",
      "[70]\teval-auc:0.73270\n",
      "[80]\teval-auc:0.73318\n",
      "[90]\teval-auc:0.73345\n",
      "[100]\teval-auc:0.73360\n",
      "[110]\teval-auc:0.73363\n",
      "[120]\teval-auc:0.73343\n",
      "[130]\teval-auc:0.73339\n",
      "[140]\teval-auc:0.73308\n",
      "[150]\teval-auc:0.73304\n",
      "[160]\teval-auc:0.73277\n",
      "[164]\teval-auc:0.73273\n"
     ]
    },
    {
     "name": "stderr",
     "output_type": "stream",
     "text": [
      "2025/08/10 11:26:17 WARNING mlflow.models.model: Model logged without a signature and input example. Please set `input_example` parameter when logging the model to auto infer the model signature.\n"
     ]
    }
   ],
   "source": [
    "#best params from hyper parameter tuning\n",
    "best_params = {\n",
    "    'max_depth': 4,\n",
    "    'learning_rate': 0.13232,\n",
    "    'reg_alpha': 0.02965,\n",
    "    'reg_lambda': 0.1111,\n",
    "    'min_child_weight': 3.19211,\n",
    "    'subsample': 0.83768,\n",
    "    'colsample_bytree': 0.81102,\n",
    "    'objective': 'binary:logistic',\n",
    "    'seed': 42,\n",
    "    'eval_metric': 'auc',\n",
    "    'scale_pos_weight': 11.38747\n",
    "}\n",
    "\n",
    "with mlflow.start_run(run_name=\"xgboost-final-auc\"):\n",
    "\n",
    "    mlflow.set_tag(\"model\", \"XGBoost\")\n",
    "    mlflow.set_tag(\"engineer\", \"adeakinwe\")\n",
    "    mlflow.log_param(\"train_data_path\", \"../processed_data/X_train.parquet\")\n",
    "    mlflow.log_param(\"val_data_path\", \"../processed_data/X_val.parquet\")\n",
    "\n",
    "    mlflow.log_params(best_params)\n",
    "\n",
    "    # Prepare DMatrix\n",
    "    dtrain = xgb.DMatrix(X_train, label=y_train)\n",
    "    dval = xgb.DMatrix(X_val, label=y_val)\n",
    "\n",
    "    # Train model\n",
    "    model = xgb.train(\n",
    "        best_params,\n",
    "        dtrain,\n",
    "        num_boost_round=200,\n",
    "        evals=[(dval, 'eval')],\n",
    "        early_stopping_rounds=50,\n",
    "        verbose_eval=10\n",
    "    )\n",
    "\n",
    "    # Evaluate\n",
    "    y_proba = model.predict(dval)\n",
    "    auc = round(roc_auc_score(y_val, y_proba), 3)\n",
    "    mlflow.log_metric(\"auc\", auc)\n",
    "\n",
    "    # Log model (native)\n",
    "    mlflow.xgboost.log_model(model, artifact_path=\"models/xgboost_model\")\n",
    "\n",
    "    # Dump model + vectorizer together\n",
    "    model_bundle = {\n",
    "        \"model\": model,\n",
    "        \"vectorizer\": dv  # dict_vectorizer\n",
    "    }\n",
    "\n",
    "    bundle_path = \"../models/xgb_credit_pred.bin\"\n",
    "    with open(bundle_path, \"wb\") as f_out:\n",
    "        pickle.dump(model_bundle, f_out)\n",
    "\n",
    "    mlflow.log_artifact(bundle_path)"
   ]
  },
  {
   "cell_type": "markdown",
   "id": "cf5b9b69",
   "metadata": {},
   "source": [
    "load model with mlflow run id and predict"
   ]
  },
  {
   "cell_type": "code",
   "execution_count": 18,
   "id": "82bed7f5",
   "metadata": {},
   "outputs": [
    {
     "data": {
      "text/plain": [
       "mlflow.pyfunc.loaded_model:\n",
       "  artifact_path: models/xgboost_model\n",
       "  flavor: mlflow.xgboost\n",
       "  run_id: b88184738ffd42ccbe32c94be8854a16"
      ]
     },
     "execution_count": 18,
     "metadata": {},
     "output_type": "execute_result"
    }
   ],
   "source": [
    "logged_model = 'runs:/b88184738ffd42ccbe32c94be8854a16/models/xgboost_model'\n",
    "\n",
    "# Load model as a PyFuncModel.\n",
    "loaded_model = mlflow.pyfunc.load_model(logged_model)\n",
    "loaded_model"
   ]
  },
  {
   "cell_type": "code",
   "execution_count": 19,
   "id": "409e7fab",
   "metadata": {},
   "outputs": [
    {
     "data": {
      "text/plain": [
       "<xgboost.core.Booster at 0x7fc4f5442bb0>"
      ]
     },
     "execution_count": 19,
     "metadata": {},
     "output_type": "execute_result"
    }
   ],
   "source": [
    "xgboost_model = mlflow.xgboost.load_model(logged_model)\n",
    "xgboost_model"
   ]
  },
  {
   "cell_type": "code",
   "execution_count": 20,
   "id": "f93b63a9",
   "metadata": {},
   "outputs": [],
   "source": [
    "y_pred = xgboost_model.predict(dval)"
   ]
  },
  {
   "cell_type": "code",
   "execution_count": 25,
   "metadata": {},
   "outputs": [
    {
     "data": {
      "text/plain": [
       "array([0.41663513, 0.33560494, 0.3576474 , 0.30611232, 0.7213146 ,\n",
       "       0.53515816, 0.21677195, 0.55349094, 0.44458437, 0.2975627 ],\n",
       "      dtype=float32)"
      ]
     },
     "execution_count": 25,
     "metadata": {},
     "output_type": "execute_result"
    }
   ],
   "source": [
    "y_pred[:10]"
   ]
  }
 ],
 "metadata": {
  "accelerator": "TPU",
  "colab": {
   "gpuType": "V28",
   "provenance": []
  },
  "kernelspec": {
   "display_name": "Python 3 (ipykernel)",
   "language": "python",
   "name": "python3"
  },
  "language_info": {
   "codemirror_mode": {
    "name": "ipython",
    "version": 3
   },
   "file_extension": ".py",
   "mimetype": "text/x-python",
   "name": "python",
   "nbconvert_exporter": "python",
   "pygments_lexer": "ipython3",
   "version": "3.8.10"
  }
 },
 "nbformat": 4,
 "nbformat_minor": 5
}
