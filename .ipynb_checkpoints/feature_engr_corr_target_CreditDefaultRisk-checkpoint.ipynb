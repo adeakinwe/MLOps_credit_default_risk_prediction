{
  "cells": [
    {
      "cell_type": "markdown",
      "id": "b43b1709-bb33-4bcd-b79e-98815ad42448",
      "metadata": {
        "id": "b43b1709-bb33-4bcd-b79e-98815ad42448"
      },
      "source": [
        "IMPORTING LIBRARIES"
      ]
    },
    {
      "cell_type": "code",
      "execution_count": null,
      "id": "74ad62df-5839-4ee5-9f33-06c5078ff889",
      "metadata": {
        "id": "74ad62df-5839-4ee5-9f33-06c5078ff889"
      },
      "outputs": [],
      "source": [
        "# Filtering Warnings\n",
        "import warnings\n",
        "warnings.filterwarnings('ignore')\n",
        "\n",
        "#Import Libraries\n",
        "import numpy as np\n",
        "import pandas as pd\n",
        "#import seaborn as sns\n",
        "from matplotlib import pyplot as plt\n",
        "from plotly.subplots import make_subplots\n",
        "import plotly.graph_objects as go\n",
        "pd.set_option('display.max_columns', 300) #Setting column display limit\n",
        "plt.style.use('ggplot') #Applying style to graphs"
      ]
    },
    {
      "cell_type": "markdown",
      "id": "8b387bdd-dc46-4235-8492-52548f451b85",
      "metadata": {
        "id": "8b387bdd-dc46-4235-8492-52548f451b85"
      },
      "source": [
        "LOAD DATA"
      ]
    },
    {
      "cell_type": "code",
      "execution_count": null,
      "id": "ba3822d2-de05-4168-8ac6-eae8218c2264",
      "metadata": {
        "id": "ba3822d2-de05-4168-8ac6-eae8218c2264"
      },
      "outputs": [],
      "source": [
        "\n",
        "app_df = pd.read_parquet('data/application_data.parquet')"
      ]
    },
    {
      "cell_type": "markdown",
      "id": "b44cd643-25a4-409d-b997-5b060e765988",
      "metadata": {
        "id": "b44cd643-25a4-409d-b997-5b060e765988"
      },
      "source": [
        "DATA PRE-PROCESSING"
      ]
    },
    {
      "cell_type": "code",
      "execution_count": null,
      "id": "40f34823-3095-457c-a11d-5f1714aea095",
      "metadata": {
        "colab": {
          "base_uri": "https://localhost:8080/"
        },
        "id": "40f34823-3095-457c-a11d-5f1714aea095",
        "outputId": "2ddf802f-fb34-4404-a9f6-e5082d5ab3b8"
      },
      "outputs": [],
      "source": [
        "\n",
        "app_df.shape"
      ]
    },
    {
      "cell_type": "code",
      "execution_count": null,
      "id": "639f06f7-13f0-4413-a179-245e74f0159b",
      "metadata": {
        "colab": {
          "base_uri": "https://localhost:8080/",
          "height": 582
        },
        "id": "639f06f7-13f0-4413-a179-245e74f0159b",
        "outputId": "c5ebbee5-0a54-4e6e-a489-c14d36fa4ec0"
      },
      "outputs": [],
      "source": [
        "\n",
        "app_df.head()"
      ]
    },
    {
      "cell_type": "code",
      "execution_count": null,
      "id": "3bb42212-8b11-4f59-a60c-50bb6e3c48f9",
      "metadata": {
        "colab": {
          "base_uri": "https://localhost:8080/",
          "height": 320
        },
        "id": "3bb42212-8b11-4f59-a60c-50bb6e3c48f9",
        "outputId": "b2dab900-abfb-42af-e811-c31cda57e9ae"
      },
      "outputs": [],
      "source": [
        "app_df.describe()"
      ]
    },
    {
      "cell_type": "markdown",
      "id": "7beb938e-16c9-4b54-91f0-437da4f4244e",
      "metadata": {
        "id": "7beb938e-16c9-4b54-91f0-437da4f4244e"
      },
      "source": [
        "NULL CHECKING AND HANDLING"
      ]
    },
    {
      "cell_type": "code",
      "execution_count": null,
      "id": "32771fbd-01ee-4c49-8ba5-712cffc38e4f",
      "metadata": {
        "colab": {
          "base_uri": "https://localhost:8080/",
          "height": 1000
        },
        "id": "32771fbd-01ee-4c49-8ba5-712cffc38e4f",
        "outputId": "49ac9bad-4533-478c-8b07-48b48ded9662"
      },
      "outputs": [],
      "source": [
        "#null checking\n",
        "\n",
        "(app_df.isnull().sum()/len(app_df)*100).sort_values(ascending = False).head(50)"
      ]
    },
    {
      "cell_type": "markdown",
      "id": "e4ccee4a-a10c-428e-a137-ea972b5e1186",
      "metadata": {
        "id": "e4ccee4a-a10c-428e-a137-ea972b5e1186"
      },
      "source": [
        "It is evident that there are lots of columns with missing values. We need to investigate further and drop columns with null values higher than 40%."
      ]
    },
    {
      "cell_type": "code",
      "execution_count": null,
      "id": "a3befd32-6171-423f-bfd3-d9bdf03a9aff",
      "metadata": {
        "colab": {
          "base_uri": "https://localhost:8080/",
          "height": 512
        },
        "id": "a3befd32-6171-423f-bfd3-d9bdf03a9aff",
        "outputId": "9e68875b-1abc-4c8c-8440-b552d6cd2a3b"
      },
      "outputs": [],
      "source": [
        "null_col = app_df.isnull().sum().sort_values(ascending = False)\n",
        "null_col = null_col[null_col.values >(0.40*len(app_df))]\n",
        "\n",
        "\n",
        "#Plotting Bar Graph for null values greater than 40%\n",
        "\n",
        "plt.figure(figsize=(20,4))\n",
        "null_col.plot(kind='bar', color=\"#4CB391\")\n",
        "plt.title('List of Columns & null counts where null values are more than 40%')\n",
        "\n",
        "plt.xlabel(\"Null Columns\",fontdict={\"fontsize\":12,\"fontweight\":5})\n",
        "plt.ylabel(\"Count of null values\",fontdict={\"fontsize\":12,\"fontweight\":5})\n",
        "plt.show()"
      ]
    },
    {
      "cell_type": "code",
      "execution_count": null,
      "id": "d9029b0c-0350-418b-8c27-8c9ca7185744",
      "metadata": {
        "colab": {
          "base_uri": "https://localhost:8080/"
        },
        "id": "d9029b0c-0350-418b-8c27-8c9ca7185744",
        "outputId": "a22c00c8-9922-46da-8334-8810003481d9"
      },
      "outputs": [],
      "source": [
        "len(null_col)"
      ]
    },
    {
      "cell_type": "markdown",
      "id": "Y7DKT-bKFpOk",
      "metadata": {
        "id": "Y7DKT-bKFpOk"
      },
      "source": [
        "CORRELATION ANALYSIS"
      ]
    },
    {
      "cell_type": "code",
      "execution_count": null,
      "id": "H0zKTDuHr7hK",
      "metadata": {
        "colab": {
          "base_uri": "https://localhost:8080/"
        },
        "id": "H0zKTDuHr7hK",
        "outputId": "dc52c5fd-0255-484e-e34b-9b87164f312c"
      },
      "outputs": [],
      "source": [
        "#Correlated columns with target\n",
        "\n",
        "correlation=app_df.corr(numeric_only=True)\n",
        "top_positive_corr = correlation.TARGET.sort_values(ascending=False).head(5).index.to_list()\n",
        "top_negative_corr = correlation.TARGET.sort_values(ascending=True).head(5).index.to_list()\n",
        "print(top_positive_corr)\n",
        "print(top_negative_corr)"
      ]
    },
    {
      "cell_type": "code",
      "execution_count": null,
      "id": "VngUE81PyZ8x",
      "metadata": {
        "colab": {
          "base_uri": "https://localhost:8080/"
        },
        "id": "VngUE81PyZ8x",
        "outputId": "939fb48d-c33b-416c-ca50-cb30b29b6f02"
      },
      "outputs": [],
      "source": [
        "top_corr_columns = []\n",
        "top_corr_columns = top_positive_corr + top_negative_corr\n",
        "print(top_corr_columns)"
      ]
    },
    {
      "cell_type": "code",
      "execution_count": null,
      "id": "r-tKHpQ6xWhS",
      "metadata": {
        "id": "r-tKHpQ6xWhS"
      },
      "outputs": [],
      "source": [
        "cols_to_drop = list(null_col.index.values) #Making list of column names having null values greater than 40%"
      ]
    },
    {
      "cell_type": "code",
      "execution_count": null,
      "id": "Rpc9qsYE0cGf",
      "metadata": {
        "colab": {
          "base_uri": "https://localhost:8080/"
        },
        "id": "Rpc9qsYE0cGf",
        "outputId": "ed7260b4-f847-4292-a0cb-752025683400"
      },
      "outputs": [],
      "source": [
        "#Removing top correlated columns from columns to be dropped\n",
        "\n",
        "for col in top_corr_columns:\n",
        "    if col in cols_to_drop:\n",
        "        cols_to_drop.remove(col)\n",
        "        print(col)"
      ]
    },
    {
      "cell_type": "code",
      "execution_count": null,
      "id": "IHoA-0gf3E5U",
      "metadata": {
        "colab": {
          "base_uri": "https://localhost:8080/"
        },
        "id": "IHoA-0gf3E5U",
        "outputId": "b9644a69-fd0a-498a-c768-8a20780e04fa"
      },
      "outputs": [],
      "source": [
        "len(cols_to_drop)"
      ]
    },
    {
      "cell_type": "code",
      "execution_count": null,
      "id": "7a90b399-a1d7-4d1f-88a4-6b30897df56f",
      "metadata": {
        "id": "7a90b399-a1d7-4d1f-88a4-6b30897df56f"
      },
      "outputs": [],
      "source": [
        "app_df.drop(labels = cols_to_drop,axis=1,inplace = True) #Dropping those columns"
      ]
    },
    {
      "cell_type": "code",
      "execution_count": null,
      "id": "e7abcaf1",
      "metadata": {},
      "outputs": [],
      "source": [
        "app_df = app_df[top_corr_columns]"
      ]
    },
    {
      "cell_type": "code",
      "execution_count": null,
      "id": "efe545bd-bae9-48a8-bd57-0ede3a8091eb",
      "metadata": {
        "colab": {
          "base_uri": "https://localhost:8080/"
        },
        "id": "efe545bd-bae9-48a8-bd57-0ede3a8091eb",
        "outputId": "42c25a5b-36d9-4d0b-8bd9-13a8f707df69"
      },
      "outputs": [],
      "source": [
        "app_df.shape"
      ]
    },
    {
      "cell_type": "code",
      "execution_count": null,
      "id": "1805efe6-2e6d-47b1-9708-7bb6d5cce434",
      "metadata": {
        "colab": {
          "base_uri": "https://localhost:8080/",
          "height": 711
        },
        "id": "1805efe6-2e6d-47b1-9708-7bb6d5cce434",
        "outputId": "2e8b40de-31a3-419a-dfb7-8d4316a4c9f0"
      },
      "outputs": [],
      "source": [
        "#Checking for left-out columns with null\n",
        "\n",
        "null_left = (app_df.isnull().sum()/len(app_df)*100).sort_values(ascending = False).head(20)\n",
        "null_left"
      ]
    },
    {
      "cell_type": "markdown",
      "id": "53799686-0187-4733-8e71-50e2313c5390",
      "metadata": {
        "id": "53799686-0187-4733-8e71-50e2313c5390"
      },
      "source": [
        "Filling null values"
      ]
    },
    {
      "cell_type": "code",
      "execution_count": null,
      "id": "mtCWWOWVfmBB",
      "metadata": {
        "id": "mtCWWOWVfmBB"
      },
      "outputs": [],
      "source": [
        "app_df.EXT_SOURCE_3.fillna(app_df.EXT_SOURCE_3.median() , inplace = True)\n",
        "\n",
        "app_df.EXT_SOURCE_2.fillna(app_df.EXT_SOURCE_2.median() , inplace = True)\n",
        "\n",
        "app_df.EXT_SOURCE_1.fillna(app_df.EXT_SOURCE_1.median() , inplace = True)"
      ]
    },
    {
      "cell_type": "code",
      "execution_count": null,
      "id": "3Lq3ga9Vfl1T",
      "metadata": {
        "id": "3Lq3ga9Vfl1T"
      },
      "outputs": [],
      "source": [
        "#Since this is an average computation based column, hence we fill NaN values with median\n",
        "\n",
        "app_df['FLOORSMAX_AVG'].fillna(app_df['FLOORSMAX_AVG'].median(),inplace=True)"
      ]
    },
    {
      "cell_type": "code",
      "execution_count": null,
      "id": "78002d50-b544-43ad-85de-15bb3972b89d",
      "metadata": {
        "colab": {
          "base_uri": "https://localhost:8080/",
          "height": 240
        },
        "id": "78002d50-b544-43ad-85de-15bb3972b89d",
        "outputId": "0bf66a34-1600-4ac6-b98d-c085ed834235"
      },
      "outputs": [],
      "source": [
        "#DAYS_LAST_PHONE_CHANGE\n",
        "\n",
        "app_df['DAYS_LAST_PHONE_CHANGE'].head(5)"
      ]
    },
    {
      "cell_type": "code",
      "execution_count": null,
      "id": "9dd864bd-cd84-4d2d-876f-92bc1c5dcc14",
      "metadata": {
        "id": "9dd864bd-cd84-4d2d-876f-92bc1c5dcc14"
      },
      "outputs": [],
      "source": [
        "'''\n",
        "This is a numeric column,\n",
        "1. values will be standardized by taking absolute values\n",
        "2. replace few missing values with Mode\n",
        "'''\n",
        "app_df['DAYS_LAST_PHONE_CHANGE']=app_df['DAYS_LAST_PHONE_CHANGE'].abs()"
      ]
    },
    {
      "cell_type": "code",
      "execution_count": null,
      "id": "4eOI7A5cNmeY",
      "metadata": {
        "id": "4eOI7A5cNmeY"
      },
      "outputs": [],
      "source": [
        "app_df['DAYS_LAST_PHONE_CHANGE'].fillna(app_df['DAYS_LAST_PHONE_CHANGE'].mode,inplace=True)"
      ]
    },
    {
      "cell_type": "code",
      "execution_count": null,
      "id": "b5ab0da5-c631-490d-afde-932b88052d66",
      "metadata": {
        "colab": {
          "base_uri": "https://localhost:8080/",
          "height": 458
        },
        "id": "b5ab0da5-c631-490d-afde-932b88052d66",
        "outputId": "54824291-2161-46f4-edc5-8fcd65a7b2e7"
      },
      "outputs": [],
      "source": [
        "null_check = (app_df.isnull().sum()/len(app_df)*100).sort_values(ascending = False)\n",
        "null_check"
      ]
    },
    {
      "cell_type": "markdown",
      "id": "05d44c82-c7ce-4c19-81d6-f60fa97e86f5",
      "metadata": {
        "id": "05d44c82-c7ce-4c19-81d6-f60fa97e86f5"
      },
      "source": [
        "No further missing values"
      ]
    },
    {
      "cell_type": "markdown",
      "id": "d729ff53-3df0-402b-853d-e037bdb51ef8",
      "metadata": {
        "id": "d729ff53-3df0-402b-853d-e037bdb51ef8"
      },
      "source": [
        "FEATURE ENGINEERING - BINNING AND GROUPING"
      ]
    },
    {
      "cell_type": "code",
      "execution_count": null,
      "id": "0068b88f",
      "metadata": {},
      "outputs": [],
      "source": [
        "app_df.head()"
      ]
    },
    {
      "cell_type": "code",
      "execution_count": null,
      "id": "c5d183ad",
      "metadata": {},
      "outputs": [],
      "source": [
        "app_df['DAYS_BIRTH'] = app_df['DAYS_BIRTH'].abs()\n",
        "app_df['DAYS_EMPLOYED'] = app_df['DAYS_EMPLOYED'].abs()"
      ]
    },
    {
      "cell_type": "code",
      "execution_count": null,
      "id": "051df840",
      "metadata": {},
      "outputs": [],
      "source": [
        "app_df.head()"
      ]
    },
    {
      "cell_type": "code",
      "execution_count": null,
      "id": "638cb5cb-932d-468d-b044-ad74abaad1bc",
      "metadata": {
        "colab": {
          "base_uri": "https://localhost:8080/"
        },
        "id": "638cb5cb-932d-468d-b044-ad74abaad1bc",
        "outputId": "fbfb0db5-d099-4822-baf1-2c0ea425fa7a"
      },
      "outputs": [],
      "source": [
        "#DAYS_BIRTH\n",
        "\n",
        "app_df['DAYS_BIRTH']= (app_df['DAYS_BIRTH']/365).astype(int)\n",
        "app_df['DAYS_BIRTH'].unique()"
      ]
    },
    {
      "cell_type": "code",
      "execution_count": null,
      "id": "222785dc-6d36-4506-9c7a-64d7b4b8a88d",
      "metadata": {
        "id": "222785dc-6d36-4506-9c7a-64d7b4b8a88d"
      },
      "outputs": [],
      "source": [
        "app_df['AGE_GROUP']=pd.cut(app_df['DAYS_BIRTH'],\n",
        "                         bins=[19,25,40,60,100], labels=['Very_Young','Youth', 'Middle_Age', 'Elder'])"
      ]
    },
    {
      "cell_type": "code",
      "execution_count": null,
      "id": "d27bcdb5-b51c-4139-8320-edfd4f7aff12",
      "metadata": {
        "colab": {
          "base_uri": "https://localhost:8080/",
          "height": 423
        },
        "id": "d27bcdb5-b51c-4139-8320-edfd4f7aff12",
        "outputId": "62f6a3b7-0bfd-455a-f0af-9360f8bb9e39"
      },
      "outputs": [],
      "source": [
        "app_df[['DAYS_BIRTH','AGE_GROUP']]"
      ]
    },
    {
      "cell_type": "code",
      "execution_count": null,
      "id": "a7cede52-eea5-41d9-a10a-b86db17d1b1f",
      "metadata": {
        "colab": {
          "base_uri": "https://localhost:8080/",
          "height": 334
        },
        "id": "a7cede52-eea5-41d9-a10a-b86db17d1b1f",
        "outputId": "beb821fa-2593-4069-d26a-0549abf99286"
      },
      "outputs": [],
      "source": [
        "app_df['DAYS_EMPLOYED']= (app_df['DAYS_EMPLOYED']/365).astype(int)\n",
        "app_df['DAYS_EMPLOYED'].unique()"
      ]
    },
    {
      "cell_type": "code",
      "execution_count": null,
      "id": "58c1f449-ce9f-4e13-8522-f680796d373b",
      "metadata": {
        "id": "58c1f449-ce9f-4e13-8522-f680796d373b"
      },
      "outputs": [],
      "source": [
        "#Bin into groups\n",
        "app_df['DAYS_EMPLOYED']=pd.cut(app_df['DAYS_EMPLOYED'],\n",
        "                         bins=[19,25,40,60,100], labels=['Very_Young','Youth', 'Middle_Age', 'Elder'])"
      ]
    },
    {
      "cell_type": "code",
      "execution_count": null,
      "id": "3de24f48-fac8-4f22-a2ab-ae133323bc88",
      "metadata": {
        "id": "3de24f48-fac8-4f22-a2ab-ae133323bc88"
      },
      "outputs": [],
      "source": [
        "# Create a new column 'AMT_CREDIT_GROUP' based on the bins and labels\n",
        "\n",
        "app_df['AMT_CREDIT_GROUP'] = pd.cut(app_df['AMT_CREDIT'], bins=bin_edges, labels=bin_labels, right=False)"
      ]
    },
    {
      "cell_type": "code",
      "execution_count": null,
      "id": "f517bbe2-0902-4614-9167-a360f915dd13",
      "metadata": {
        "colab": {
          "base_uri": "https://localhost:8080/",
          "height": 366
        },
        "id": "f517bbe2-0902-4614-9167-a360f915dd13",
        "outputId": "aa6339f2-c3eb-4fc1-8d21-1663075113a7"
      },
      "outputs": [],
      "source": [
        "app_df['AMT_CREDIT_GROUP'].value_counts()"
      ]
    },
    {
      "cell_type": "code",
      "execution_count": null,
      "id": "3ccf1c41-67d6-401c-92f8-9378ad6e2983",
      "metadata": {
        "colab": {
          "base_uri": "https://localhost:8080/",
          "height": 334
        },
        "id": "3ccf1c41-67d6-401c-92f8-9378ad6e2983",
        "outputId": "8c5a88cb-5316-446a-f67f-6b2d8fd464af"
      },
      "outputs": [],
      "source": [
        "#AMT_INCOME_TOTAL\n",
        "\n",
        "app_df.AMT_INCOME_TOTAL.describe()"
      ]
    },
    {
      "cell_type": "code",
      "execution_count": null,
      "id": "1e19b909-b98e-41fa-b72f-dae8ed8a0ef2",
      "metadata": {
        "id": "1e19b909-b98e-41fa-b72f-dae8ed8a0ef2"
      },
      "outputs": [],
      "source": [
        "income_bins = [25650, 75000, 112500, 135000, 157500, 180000, 202500, 225000, 117000000]\n",
        "income_labels = [\"26k to 75k\", \"75k to 112.5k\", \"112.5k to 135k\", \"135k to 157.5k\", \"157.5k to 180k\", \"180k to 202.5k\", \"202.5k to 225k\", \"225k to 117M\"]"
      ]
    },
    {
      "cell_type": "code",
      "execution_count": null,
      "id": "59aa1e9b-6090-453b-b1af-459d42c809b3",
      "metadata": {
        "id": "59aa1e9b-6090-453b-b1af-459d42c809b3"
      },
      "outputs": [],
      "source": [
        "# Creating a new column INCOME_GROUP\n",
        "app_df['AMT_INCOME_GROUP'] = pd.cut(app_df['AMT_INCOME_TOTAL'], bins=income_bins, labels=income_labels)"
      ]
    },
    {
      "cell_type": "code",
      "execution_count": null,
      "id": "8420204d-6303-4e6c-a2aa-36b143d3f86d",
      "metadata": {
        "colab": {
          "base_uri": "https://localhost:8080/",
          "height": 366
        },
        "id": "8420204d-6303-4e6c-a2aa-36b143d3f86d",
        "outputId": "b8e3d64a-b1bc-47c5-cf1e-73d2d6494173"
      },
      "outputs": [],
      "source": [
        "app_df.AMT_INCOME_GROUP.value_counts()"
      ]
    },
    {
      "cell_type": "markdown",
      "id": "2b700616-72df-4d36-8ac1-cc993f2de9ec",
      "metadata": {
        "id": "2b700616-72df-4d36-8ac1-cc993f2de9ec"
      },
      "source": [
        "    RE-CONFIRMING DATASET AFTER BINNING"
      ]
    },
    {
      "cell_type": "code",
      "execution_count": null,
      "id": "53dbf219-ea2a-4d4e-a0a0-c5f555085c9f",
      "metadata": {
        "colab": {
          "base_uri": "https://localhost:8080/"
        },
        "id": "53dbf219-ea2a-4d4e-a0a0-c5f555085c9f",
        "outputId": "e24ce370-eae7-4cd9-9c83-6244131089db"
      },
      "outputs": [],
      "source": [
        "app_df.shape"
      ]
    },
    {
      "cell_type": "code",
      "execution_count": null,
      "id": "ba7f9ce9-a9a8-4d55-b148-aa08cbf74757",
      "metadata": {
        "colab": {
          "base_uri": "https://localhost:8080/",
          "height": 295
        },
        "id": "ba7f9ce9-a9a8-4d55-b148-aa08cbf74757",
        "outputId": "306a70bb-552d-4f04-f7fd-d49c1375902c"
      },
      "outputs": [],
      "source": [
        "app_df.head()"
      ]
    },
    {
      "cell_type": "code",
      "execution_count": null,
      "id": "b5ed7160-3eb8-45da-97f1-02bce41eaac4",
      "metadata": {
        "colab": {
          "base_uri": "https://localhost:8080/",
          "height": 240
        },
        "id": "b5ed7160-3eb8-45da-97f1-02bce41eaac4",
        "outputId": "8cb24599-b111-4d6b-a14d-ad630b5ea74d"
      },
      "outputs": [],
      "source": [
        "app_df.isnull().sum().sort_values(ascending=False).head()"
      ]
    },
    {
      "cell_type": "markdown",
      "id": "889243c7-f153-46f0-84b6-45acdf0d3f21",
      "metadata": {
        "id": "889243c7-f153-46f0-84b6-45acdf0d3f21"
      },
      "source": [
        "There are still null values in 'AMT_CREDIT_GROUP' and 'AMT_INCOME_GROUP'. We need to investigate."
      ]
    },
    {
      "cell_type": "code",
      "execution_count": null,
      "id": "f641a257-c1ea-4ffd-aad8-7250bf2fa081",
      "metadata": {
        "colab": {
          "base_uri": "https://localhost:8080/",
          "height": 300
        },
        "id": "f641a257-c1ea-4ffd-aad8-7250bf2fa081",
        "outputId": "021042cf-1087-4ffd-e8f8-b66a0f5e180e"
      },
      "outputs": [],
      "source": [
        "amt_credit_grp_null = app_df[app_df['AMT_CREDIT_GROUP'].isnull()]\n",
        "amt_credit_grp_null[['AMT_CREDIT','AMT_CREDIT_GROUP']].head(8)"
      ]
    },
    {
      "cell_type": "code",
      "execution_count": null,
      "id": "6cab1fd5-51af-43f4-adb7-2f3d3bc7cb8c",
      "metadata": {
        "colab": {
          "base_uri": "https://localhost:8080/",
          "height": 112
        },
        "id": "6cab1fd5-51af-43f4-adb7-2f3d3bc7cb8c",
        "outputId": "04650032-6ac5-4a6e-bacd-06b6e65da3d1"
      },
      "outputs": [],
      "source": [
        "amt_inc_grp_null = app_df[app_df['AMT_INCOME_GROUP'].isnull()]\n",
        "amt_inc_grp_null[['AMT_INCOME_TOTAL','AMT_INCOME_GROUP']].head(2)"
      ]
    },
    {
      "cell_type": "markdown",
      "id": "0a09340d-9fea-4e87-8bfb-419b2ea38ca8",
      "metadata": {
        "id": "0a09340d-9fea-4e87-8bfb-419b2ea38ca8"
      },
      "source": [
        "We can observe that all null values in 'AMT_CREDIT_GROUP' has 'AMT_CREDIT' of 4,050,000.0, while null values of 'AMT_INCOME_GROUP' has 'AMT_INCOME_TOTAL' of 25,650.0.\n",
        "\n",
        "Hence, we input the null values with respective AMT_CREDIT and AMT_INCOME_TOTAL."
      ]
    },
    {
      "cell_type": "code",
      "execution_count": null,
      "id": "e86390fa-6587-4a27-9ebc-5015436e3f36",
      "metadata": {
        "id": "e86390fa-6587-4a27-9ebc-5015436e3f36"
      },
      "outputs": [],
      "source": [
        "app_df.AMT_CREDIT_GROUP.fillna('2.5M-4.05M',inplace = True)\n",
        "app_df.AMT_INCOME_GROUP.fillna('225k to 117M',inplace = True)"
      ]
    },
    {
      "cell_type": "code",
      "execution_count": null,
      "id": "1cb1db5b-f51a-4ed8-9de9-0478bb6bc065",
      "metadata": {
        "colab": {
          "base_uri": "https://localhost:8080/",
          "height": 240
        },
        "id": "1cb1db5b-f51a-4ed8-9de9-0478bb6bc065",
        "outputId": "69f25f8c-c5fc-4711-c609-2d7e832d864a"
      },
      "outputs": [],
      "source": [
        "app_df.isnull().sum().sort_values(ascending=False).head()"
      ]
    },
    {
      "cell_type": "markdown",
      "id": "bfafc8e4-312d-4ffd-93e7-fd5f12d96d1b",
      "metadata": {
        "id": "bfafc8e4-312d-4ffd-93e7-fd5f12d96d1b"
      },
      "source": [
        "No further null values"
      ]
    },
    {
      "cell_type": "markdown",
      "id": "417daee3-3778-4093-ab79-2fb79c97eeac",
      "metadata": {
        "id": "417daee3-3778-4093-ab79-2fb79c97eeac"
      },
      "source": [
        "EXPLORATORY DATA ANALYSIS"
      ]
    },
    {
      "cell_type": "code",
      "execution_count": null,
      "id": "dbe103fb-04c8-4a83-9ed4-e03063282847",
      "metadata": {
        "colab": {
          "base_uri": "https://localhost:8080/",
          "height": 178
        },
        "id": "dbe103fb-04c8-4a83-9ed4-e03063282847",
        "outputId": "e1063ec3-45b8-40d1-f32f-0394350790b8"
      },
      "outputs": [],
      "source": [
        "#DATA IMBALANCE CHECK\n",
        "\n",
        "target_counts = app_df['TARGET'].value_counts()\n",
        "target_counts"
      ]
    },
    {
      "cell_type": "code",
      "execution_count": null,
      "id": "5142d641-82da-4ea0-8a45-34c9fcc00ddb",
      "metadata": {
        "colab": {
          "base_uri": "https://localhost:8080/",
          "height": 522
        },
        "id": "5142d641-82da-4ea0-8a45-34c9fcc00ddb",
        "outputId": "a1c6da37-2c58-419d-e137-1d52506f9d1a"
      },
      "outputs": [],
      "source": [
        "# Create a pie chart\n",
        "plt.figure(figsize=(6, 6))\n",
        "plt.pie(target_counts, labels=target_counts.index, autopct='%1.1f%%', startangle=140)\n",
        "plt.title('Distribution of TARGET Variable')\n",
        "plt.show()"
      ]
    },
    {
      "cell_type": "markdown",
      "id": "9cf2befe-8ea1-4819-bca6-beec9fafa863",
      "metadata": {
        "id": "9cf2befe-8ea1-4819-bca6-beec9fafa863"
      },
      "source": [
        "This reveals that 8.1% of the dataset are defaulting customers while 91.9% are not."
      ]
    },
    {
      "cell_type": "code",
      "execution_count": null,
      "id": "12fab613-2c79-4061-80cf-1533a9429bdb",
      "metadata": {
        "colab": {
          "base_uri": "https://localhost:8080/"
        },
        "id": "12fab613-2c79-4061-80cf-1533a9429bdb",
        "outputId": "6eec0187-0106-4b6b-b1b3-4b44319b2c00"
      },
      "outputs": [],
      "source": [
        "Target0 = app_df.loc[app_df[\"TARGET\"]==0]\n",
        "Target1 = app_df.loc[app_df[\"TARGET\"]==1]\n",
        "\n",
        "round(len(Target0)/len(Target1),2)"
      ]
    },
    {
      "cell_type": "markdown",
      "id": "09a98f2c-fe12-4ba4-8c89-ac60f2d7a15e",
      "metadata": {
        "id": "09a98f2c-fe12-4ba4-8c89-ac60f2d7a15e"
      },
      "source": [
        "The imbalance ratio of non-defaulters to defaulter is \"11.39\". This simply means for every one defaulter, there is approximately 11 non-defaulters. Hence, ROC AUC curve will be better suited to evaluate selected models in predictive modelling section."
      ]
    },
    {
      "cell_type": "markdown",
      "id": "900ffbcc-e894-48cc-a85d-8f918938ac6b",
      "metadata": {
        "id": "900ffbcc-e894-48cc-a85d-8f918938ac6b"
      },
      "source": [
        "UNIVARIATE ANALYSIS"
      ]
    },
    {
      "cell_type": "code",
      "execution_count": null,
      "id": "272ea703-4541-4871-9b38-b502f4975488",
      "metadata": {
        "id": "272ea703-4541-4871-9b38-b502f4975488"
      },
      "outputs": [],
      "source": [
        "#The datatype of categorical columns below will be changed to category to suit univariate analysis\n",
        "app_df['NAME_CONTRACT_TYPE'] = app_df['NAME_CONTRACT_TYPE'].astype('category')\n",
        "app_df['CODE_GENDER'] = app_df['CODE_GENDER'].astype('category')\n",
        "app_df['NAME_TYPE_SUITE'] = app_df['NAME_TYPE_SUITE'].astype('category')\n",
        "app_df['NAME_INCOME_TYPE'] = app_df['NAME_INCOME_TYPE'].astype('category')\n",
        "app_df['NAME_EDUCATION_TYPE'] = app_df['NAME_EDUCATION_TYPE'].astype('category')\n",
        "app_df['NAME_FAMILY_STATUS'] = app_df['NAME_FAMILY_STATUS'].astype('category')\n",
        "app_df['NAME_HOUSING_TYPE'] = app_df['NAME_HOUSING_TYPE'].astype('category')\n",
        "app_df['OCCUPATION_TYPE'] = app_df['OCCUPATION_TYPE'].astype('category')\n",
        "app_df['WEEKDAY_APPR_PROCESS_START'] = app_df['WEEKDAY_APPR_PROCESS_START'].astype('category')\n",
        "app_df['ORGANIZATION_TYPE'] = app_df['ORGANIZATION_TYPE'].astype('category')"
      ]
    },
    {
      "cell_type": "code",
      "execution_count": null,
      "id": "8feaeb49-9769-40fc-999b-9cf15a6aad09",
      "metadata": {
        "colab": {
          "base_uri": "https://localhost:8080/"
        },
        "id": "8feaeb49-9769-40fc-999b-9cf15a6aad09",
        "outputId": "74f4980e-fa1e-441d-f02d-78338f15fd62"
      },
      "outputs": [],
      "source": [
        "#CONVERTING OBJECT DATATYPES TO NUMERICAL OR CATEGORICAL DATATYPE\n",
        "\n",
        "app_df.select_dtypes(include='object').info()\n",
        "\n",
        "app_df['FLAG_OWN_CAR'] = app_df['FLAG_OWN_CAR'].astype('category')\n",
        "app_df['FLAG_OWN_REALTY'] = app_df['FLAG_OWN_REALTY'].astype('category')\n",
        "app_df['DAYS_LAST_PHONE_CHANGE'] = pd.to_numeric(app_df['DAYS_LAST_PHONE_CHANGE'], errors= 'coerce')"
      ]
    },
    {
      "cell_type": "code",
      "execution_count": null,
      "id": "e2dba03e-2680-4d38-8517-7ad08789e5e2",
      "metadata": {
        "colab": {
          "base_uri": "https://localhost:8080/",
          "height": 240
        },
        "id": "e2dba03e-2680-4d38-8517-7ad08789e5e2",
        "outputId": "3bf60bbf-b3ad-49a6-c166-60fe7d21bb44"
      },
      "outputs": [],
      "source": [
        "#FINAL NULL CHECKING AND HANDLING\n",
        "\n",
        "app_df.isnull().sum().sort_values(ascending=False).head()"
      ]
    },
    {
      "cell_type": "code",
      "execution_count": null,
      "id": "cdef6229-70f4-4c35-8c96-0be4b8b8927e",
      "metadata": {
        "colab": {
          "base_uri": "https://localhost:8080/",
          "height": 109
        },
        "id": "cdef6229-70f4-4c35-8c96-0be4b8b8927e",
        "outputId": "9d6dd3a8-96e7-4f7c-e1e9-b50ceaafa904"
      },
      "outputs": [],
      "source": [
        "days_last_phone_change_null = app_df[app_df['DAYS_LAST_PHONE_CHANGE'].isnull()]\n",
        "days_last_phone_change_null"
      ]
    },
    {
      "cell_type": "code",
      "execution_count": null,
      "id": "bea585c9-eae8-41e2-bd5f-5a1e4c2518a6",
      "metadata": {
        "colab": {
          "base_uri": "https://localhost:8080/",
          "height": 240
        },
        "id": "bea585c9-eae8-41e2-bd5f-5a1e4c2518a6",
        "outputId": "880c7638-4b1b-404e-f2c0-cb86d2e682fa"
      },
      "outputs": [],
      "source": [
        "app_df['DAYS_LAST_PHONE_CHANGE'].fillna(app_df['DAYS_LAST_PHONE_CHANGE'].median(),inplace=True)\n",
        "app_df.isnull().sum().sort_values(ascending=False).head()"
      ]
    },
    {
      "cell_type": "code",
      "execution_count": null,
      "id": "493b468b-cf18-49bf-88ed-369944cf1cc9",
      "metadata": {
        "id": "493b468b-cf18-49bf-88ed-369944cf1cc9"
      },
      "outputs": [],
      "source": [
        "'''\n",
        "- After observations, these columns are recommended to be dropped due to less relevance for analysis and modelling\n",
        "- A column is to be dropped provided it is not highly correlated with the target column\n",
        "'''\n",
        "drop_this_columns =['FLAG_MOBIL', 'FLAG_EMP_PHONE', 'FLAG_WORK_PHONE', 'FLAG_CONT_MOBILE',\n",
        "       'FLAG_PHONE', 'FLAG_EMAIL','FLAG_EMAIL',\n",
        "       'FLAG_DOCUMENT_2', 'FLAG_DOCUMENT_3','FLAG_DOCUMENT_4', 'FLAG_DOCUMENT_5', 'FLAG_DOCUMENT_6',\n",
        "       'FLAG_DOCUMENT_7', 'FLAG_DOCUMENT_8', 'FLAG_DOCUMENT_9','FLAG_DOCUMENT_10', 'FLAG_DOCUMENT_11', 'FLAG_DOCUMENT_12',\n",
        "       'FLAG_DOCUMENT_13', 'FLAG_DOCUMENT_14', 'FLAG_DOCUMENT_15','FLAG_DOCUMENT_16', 'FLAG_DOCUMENT_17', 'FLAG_DOCUMENT_18',\n",
        "       'FLAG_DOCUMENT_19', 'FLAG_DOCUMENT_20', 'FLAG_DOCUMENT_21']"
      ]
    },
    {
      "cell_type": "code",
      "execution_count": null,
      "id": "iv7iKAFz71pq",
      "metadata": {
        "id": "iv7iKAFz71pq"
      },
      "outputs": [],
      "source": [
        "#confirming that top correlated columns are not included among columns recommended to be dropped\n",
        "\n",
        "for col in top_corr_columns:\n",
        "    if col in drop_this_columns:\n",
        "        drop_this_columns.remove(col)\n",
        "        print(col)"
      ]
    },
    {
      "cell_type": "code",
      "execution_count": null,
      "id": "be4953da-2f5e-4d3d-ab01-d1d9e7527699",
      "metadata": {
        "colab": {
          "base_uri": "https://localhost:8080/",
          "height": 226
        },
        "id": "be4953da-2f5e-4d3d-ab01-d1d9e7527699",
        "outputId": "8cadf0d4-324e-4293-c75a-3f05c9c62085"
      },
      "outputs": [],
      "source": [
        "app_df[drop_this_columns].head()"
      ]
    },
    {
      "cell_type": "code",
      "execution_count": null,
      "id": "cf8e7746-77a1-4d88-af0b-5f7df296c2ab",
      "metadata": {
        "id": "cf8e7746-77a1-4d88-af0b-5f7df296c2ab"
      },
      "outputs": [],
      "source": [
        "app_df.drop(labels=drop_this_columns,axis=1,inplace=True)"
      ]
    },
    {
      "cell_type": "code",
      "execution_count": null,
      "id": "xfaqoXNPalSN",
      "metadata": {
        "colab": {
          "base_uri": "https://localhost:8080/"
        },
        "id": "xfaqoXNPalSN",
        "outputId": "2940a256-f960-48d5-de7b-326806318db0"
      },
      "outputs": [],
      "source": [
        "app_df.shape"
      ]
    },
    {
      "cell_type": "markdown",
      "id": "16d41e03-6f07-49c3-a028-63d0bcf6867c",
      "metadata": {
        "id": "16d41e03-6f07-49c3-a028-63d0bcf6867c"
      },
      "source": [
        "MODELLING"
      ]
    },
    {
      "cell_type": "code",
      "execution_count": null,
      "id": "25396635-459d-4978-ba53-5953fde5a395",
      "metadata": {
        "id": "25396635-459d-4978-ba53-5953fde5a395"
      },
      "outputs": [],
      "source": [
        "from sklearn.preprocessing import OneHotEncoder\n",
        "from sklearn.impute import SimpleImputer\n",
        "from sklearn.pipeline import Pipeline\n",
        "from sklearn.compose import ColumnTransformer\n",
        "from sklearn.preprocessing import StandardScaler\n",
        "from sklearn.svm import LinearSVC\n",
        "from sklearn.metrics import roc_auc_score\n",
        "from sklearn.linear_model import LogisticRegression\n",
        "from sklearn.metrics import roc_auc_score\n",
        "from sklearn.calibration import CalibratedClassifierCV\n",
        "from sklearn.metrics import confusion_matrix\n",
        "from sklearn.ensemble import RandomForestClassifier\n",
        "from sklearn.metrics import accuracy_score\n",
        "from sklearn.linear_model import SGDClassifier\n",
        "from sklearn.model_selection import train_test_split\n",
        "import pickle\n",
        "import gc"
      ]
    },
    {
      "cell_type": "code",
      "execution_count": null,
      "id": "skuvmhVzx-BW",
      "metadata": {
        "id": "skuvmhVzx-BW"
      },
      "outputs": [],
      "source": [
        "import lightgbm as lgb"
      ]
    },
    {
      "cell_type": "code",
      "execution_count": null,
      "id": "fd355011-22b7-47a9-bc5f-174dd88b24db",
      "metadata": {
        "id": "fd355011-22b7-47a9-bc5f-174dd88b24db"
      },
      "outputs": [],
      "source": [
        "model_df = app_df.drop(['SK_ID_CURR'],axis=1)"
      ]
    },
    {
      "cell_type": "code",
      "execution_count": null,
      "id": "881ba15b-c00a-4d7d-8fee-873f990c0755",
      "metadata": {
        "colab": {
          "base_uri": "https://localhost:8080/",
          "height": 295
        },
        "id": "881ba15b-c00a-4d7d-8fee-873f990c0755",
        "outputId": "3fe434c5-ed4b-4135-e9e1-ef49af55f869"
      },
      "outputs": [],
      "source": [
        "model_df.head()"
      ]
    },
    {
      "cell_type": "code",
      "execution_count": null,
      "id": "4cc5ec0e-59e2-48db-8e43-71933c19f6b9",
      "metadata": {
        "id": "4cc5ec0e-59e2-48db-8e43-71933c19f6b9"
      },
      "outputs": [],
      "source": [
        "y_label = model_df.pop('TARGET').values"
      ]
    },
    {
      "cell_type": "code",
      "execution_count": null,
      "id": "5cb97dcf-b8e0-416d-89d3-c40a089ab889",
      "metadata": {
        "colab": {
          "base_uri": "https://localhost:8080/"
        },
        "id": "5cb97dcf-b8e0-416d-89d3-c40a089ab889",
        "outputId": "5f513387-9e49-45bc-9dea-6338e1ec93b3"
      },
      "outputs": [],
      "source": [
        "y_label"
      ]
    },
    {
      "cell_type": "code",
      "execution_count": null,
      "id": "a5d391ce-9af4-438e-b213-f0fa7ce2954b",
      "metadata": {
        "colab": {
          "base_uri": "https://localhost:8080/",
          "height": 295
        },
        "id": "a5d391ce-9af4-438e-b213-f0fa7ce2954b",
        "outputId": "2a86b00f-2930-4e97-ba7a-e366f477ab6d"
      },
      "outputs": [],
      "source": [
        "model_df.head()"
      ]
    },
    {
      "cell_type": "code",
      "execution_count": null,
      "id": "0b456347-27b7-4b0c-acfd-74df42710d70",
      "metadata": {
        "colab": {
          "base_uri": "https://localhost:8080/"
        },
        "id": "0b456347-27b7-4b0c-acfd-74df42710d70",
        "outputId": "3e07b1fb-c13c-477d-c250-a34af38a66e3"
      },
      "outputs": [],
      "source": [
        "X_train, X_temp, y_train, y_temp = train_test_split(model_df, y_label, stratify = y_label, test_size=0.3, random_state=42)\n",
        "X_val, X_test, y_val, y_test = train_test_split(X_temp, y_temp, stratify = y_temp, test_size=0.5, random_state=42)\n",
        "print('Shape of X_train:',X_train.shape)\n",
        "print('Shape of X_val:',X_val.shape)\n",
        "print('Shape of X_test:',X_test.shape)"
      ]
    },
    {
      "cell_type": "markdown",
      "id": "71ce2c8b-926b-44bf-935f-cb0d0cad1029",
      "metadata": {
        "id": "71ce2c8b-926b-44bf-935f-cb0d0cad1029"
      },
      "source": [
        "STANDARDIZATION"
      ]
    },
    {
      "cell_type": "code",
      "execution_count": null,
      "id": "d9f2d6e2-1c27-4c17-ad7f-011d63784581",
      "metadata": {
        "id": "d9f2d6e2-1c27-4c17-ad7f-011d63784581"
      },
      "outputs": [],
      "source": [
        "# Seperation of columns into numeric and categorical columns\n",
        "num_cols = np.array(X_train.select_dtypes(include= ['int64','float64']).columns)\n",
        "cat_cols = np.array(X_train.select_dtypes(include= ['category','object']).columns)"
      ]
    },
    {
      "cell_type": "code",
      "execution_count": null,
      "id": "686d009a-c182-4829-b23c-72f8dbffb413",
      "metadata": {
        "id": "686d009a-c182-4829-b23c-72f8dbffb413"
      },
      "outputs": [],
      "source": [
        "#NUMERIC COLUMN STANDARDIZATION\n",
        "X_train_num = X_train[num_cols]\n",
        "X_val_num = X_val[num_cols]\n",
        "X_test_num = X_test[num_cols]\n",
        "\n",
        "\n",
        "#SCALING\n",
        "scaler_num = StandardScaler()\n",
        "X_train_num_scaled = scaler_num.fit_transform(X_train_num)\n",
        "X_val_num_scaled = scaler_num.transform(X_val_num)\n",
        "X_test_num_scaled = scaler_num.transform(X_test_num)\n",
        "\n",
        "X_train_num_final = pd.DataFrame(X_train_num_scaled, columns=num_cols)\n",
        "X_val_num_final = pd.DataFrame(X_val_num_scaled, columns=num_cols)\n",
        "X_test_num_final = pd.DataFrame(X_test_num_scaled, columns=num_cols)"
      ]
    },
    {
      "cell_type": "code",
      "execution_count": null,
      "id": "257496fa-900c-4eb3-ba4e-763b280bee65",
      "metadata": {
        "id": "257496fa-900c-4eb3-ba4e-763b280bee65"
      },
      "outputs": [],
      "source": [
        "#CATEGORICAL COLUMN STANDARDIZATION\n",
        "\n",
        "X_train_cat = X_train[cat_cols]\n",
        "X_val_cat = X_val[cat_cols]\n",
        "X_test_cat = X_test[cat_cols]\n",
        "\n",
        "X_train_cat1= pd.DataFrame(X_train_cat, columns=cat_cols)\n",
        "X_val_cat1= pd.DataFrame(X_val_cat, columns=cat_cols)\n",
        "X_test_cat1= pd.DataFrame(X_test_cat, columns=cat_cols)\n",
        "\n",
        "#ONE HOT ENCODING\n",
        "ohe = OneHotEncoder(sparse=False,handle_unknown='ignore')\n",
        "X_train_cat2 = ohe.fit_transform(X_train_cat1)\n",
        "X_val_cat2 = ohe.transform(X_val_cat1)\n",
        "X_test_cat2 = ohe.transform(X_test_cat1)\n",
        "\n",
        "cat_cols_ohe = list(ohe.get_feature_names_out(input_features=cat_cols))\n",
        "X_train_cat_final = pd.DataFrame(X_train_cat2, columns = cat_cols_ohe)\n",
        "X_val_cat_final = pd.DataFrame(X_val_cat2, columns = cat_cols_ohe)\n",
        "X_test_cat_final = pd.DataFrame(X_test_cat2, columns = cat_cols_ohe)"
      ]
    },
    {
      "cell_type": "code",
      "execution_count": null,
      "id": "aff1ee3d-779d-48c5-82c3-9223244698ac",
      "metadata": {
        "colab": {
          "base_uri": "https://localhost:8080/"
        },
        "id": "aff1ee3d-779d-48c5-82c3-9223244698ac",
        "outputId": "c9ae88b5-2129-482f-dd29-0611b378d35a"
      },
      "outputs": [],
      "source": [
        "# STANDARDIZED DATA\n",
        "\n",
        "X_train_final = pd.concat([X_train_num_final,X_train_cat_final], axis = 1)\n",
        "X_val_final = pd.concat([X_val_num_final,X_val_cat_final], axis = 1)\n",
        "X_test_final = pd.concat([X_test_num_final,X_test_cat_final], axis = 1)\n",
        "print(X_train_final.shape)\n",
        "print(X_val_final.shape)\n",
        "print(X_test_final.shape)"
      ]
    },
    {
      "cell_type": "code",
      "execution_count": null,
      "id": "1661919a-bf6b-42b1-b8fe-7445e8faf86b",
      "metadata": {
        "id": "1661919a-bf6b-42b1-b8fe-7445e8faf86b"
      },
      "outputs": [],
      "source": [
        "#RENAMING SPECIAL CHARACTER COLUMN NAMES\n",
        "\n",
        "import re\n",
        "X_train_final = X_train_final.rename(columns = lambda x:re.sub('[^A-Za-z0-9_]+', '', x))\n",
        "X_val_final = X_val_final.rename(columns = lambda x:re.sub('[^A-Za-z0-9_]+', '', x))\n",
        "X_test_final = X_test_final.rename(columns = lambda x:re.sub('[^A-Za-z0-9_]+', '', x))"
      ]
    },
    {
      "cell_type": "markdown",
      "id": "286063ab-a2e4-4c12-8981-540f327cd3d5",
      "metadata": {
        "id": "286063ab-a2e4-4c12-8981-540f327cd3d5"
      },
      "source": [
        "MODELLING DATA SAVING"
      ]
    },
    {
      "cell_type": "code",
      "execution_count": null,
      "id": "bb76fa29-71c8-4d64-8460-69bd9bd9c359",
      "metadata": {
        "id": "bb76fa29-71c8-4d64-8460-69bd9bd9c359"
      },
      "outputs": [],
      "source": [
        "# Saving the Dataframes into CSV files\n",
        "X_train_final.to_csv('X_train_final.csv')\n",
        "X_val_final.to_csv('X_val_final.csv')\n",
        "X_test_final.to_csv('X_test_final.csv')\n",
        "# Saving the numpy arrays into text files\n",
        "np.savetxt('y_label.txt', y_label)\n",
        "np.savetxt('y_train.txt', y_train)\n",
        "np.savetxt('y_val.txt', y_val)\n",
        "np.savetxt('y_test.txt', y_test)"
      ]
    },
    {
      "cell_type": "markdown",
      "id": "314ed7ae-2a0e-4e0b-8fb7-c74f3095c16a",
      "metadata": {
        "id": "314ed7ae-2a0e-4e0b-8fb7-c74f3095c16a"
      },
      "source": [
        "FEATURE SELECTION"
      ]
    },
    {
      "cell_type": "code",
      "execution_count": null,
      "id": "12cc1553-1182-48b8-8cac-f2cbe6cf67bb",
      "metadata": {
        "colab": {
          "base_uri": "https://localhost:8080/",
          "height": 386
        },
        "id": "12cc1553-1182-48b8-8cac-f2cbe6cf67bb",
        "outputId": "db20f204-48f2-4e85-c12d-0aa08b22c664"
      },
      "outputs": [],
      "source": [
        "model_sk = lgb.LGBMClassifier(boosting_type='gbdt', max_depth=7, learning_rate=0.01, n_estimators= 2000,\n",
        "                 class_weight='balanced', subsample=0.9, colsample_bytree= 0.8, n_jobs=-1, early_stopping_rounds=100)\n",
        "\n",
        "train_features, val_features, train_y, val_y = train_test_split(X_train_final, y_train, test_size = 0.15, random_state = 42)\n",
        "\n",
        "model_sk.fit(train_features, train_y, eval_set = [(val_features, val_y)], eval_metric = 'auc')"
      ]
    },
    {
      "cell_type": "code",
      "execution_count": null,
      "id": "0e4dac58-9fbd-4768-9c7f-f2fa379ab763",
      "metadata": {
        "colab": {
          "base_uri": "https://localhost:8080/"
        },
        "id": "0e4dac58-9fbd-4768-9c7f-f2fa379ab763",
        "outputId": "c21553d9-3b01-4890-8016-d70e1893dcff"
      },
      "outputs": [],
      "source": [
        "#FEATURE IMPORTANCE\n",
        "\n",
        "feature_imp = pd.DataFrame(sorted(zip(model_sk.feature_importances_, X_train_final.columns)), columns=['Value','Feature'])\n",
        "features_df = feature_imp.sort_values(by=\"Value\", ascending=False)\n",
        "selected_features = list(features_df[features_df['Value']>=50]['Feature'])\n",
        "\n",
        "# Save selected features into pickle file\n",
        "with open('select_features.txt','wb') as pf:\n",
        "    pickle.dump(selected_features, pf)\n",
        "print('The no. of features selected:',len(selected_features))"
      ]
    },
    {
      "cell_type": "code",
      "execution_count": null,
      "id": "63aa6388-aabd-45de-b94d-825d399d008f",
      "metadata": {
        "colab": {
          "base_uri": "https://localhost:8080/",
          "height": 796
        },
        "id": "63aa6388-aabd-45de-b94d-825d399d008f",
        "outputId": "36f50d8f-a4f7-4c81-d9fc-4021bcd0aa3c"
      },
      "outputs": [],
      "source": [
        "# Feature importance Plot\n",
        "\n",
        "top50_features = features_df.head(50)\n",
        "\n",
        "# Create a data frame for visualization.\n",
        "top50_features_df = pd.DataFrame({\"Features\": pd.DataFrame(top50_features).sort_values(by='Value')['Feature'],\n",
        "                                  \"Importances\": top50_features.sort_values(by='Value')['Value']})\n",
        "\n",
        "# Plot the feature importances in bars.\n",
        "plt.figure(figsize=(19, 6))\n",
        "plt.bar(top50_features_df['Features'], top50_features_df['Importances'], color='teal')\n",
        "plt.xticks(rotation=90)\n",
        "plt.title(\"Top 50 Important Features\")\n",
        "plt.show()"
      ]
    },
    {
      "cell_type": "markdown",
      "id": "21dece89-1a4f-4d0e-b6ad-c1a0725f1070",
      "metadata": {
        "id": "21dece89-1a4f-4d0e-b6ad-c1a0725f1070"
      },
      "source": [
        "RE-USABLE PLOT FUNCTIONS"
      ]
    },
    {
      "cell_type": "code",
      "execution_count": null,
      "id": "5e052c94-b689-4276-bf0e-df417810fc28",
      "metadata": {
        "id": "5e052c94-b689-4276-bf0e-df417810fc28"
      },
      "outputs": [],
      "source": [
        "def plot_confusion_matrix(test_y, predicted_y):\n",
        "    # Confusion matrix\n",
        "    C = confusion_matrix(test_y, predicted_y)\n",
        "\n",
        "    # Recall matrix\n",
        "    A = (((C.T)/(C.sum(axis=1))).T)\n",
        "\n",
        "    # Precision matrix\n",
        "    B = (C/C.sum(axis=0))\n",
        "\n",
        "    plt.figure(figsize=(20,4))\n",
        "\n",
        "    labels = ['Re-paid(0)','Not Re-paid(1)']\n",
        "    cmap=sns.light_palette(\"purple\")\n",
        "    plt.subplot(1,3,1)\n",
        "    sns.heatmap(C, annot=True, cmap=cmap,fmt=\"d\", xticklabels = labels, yticklabels=labels)\n",
        "    plt.xlabel('Predicted Class')\n",
        "    plt.ylabel('Original Class')\n",
        "    plt.title('Confusion matrix')\n",
        "\n",
        "    plt.subplot(1,3,2)\n",
        "    sns.heatmap(A, annot=True, cmap=cmap, xticklabels = labels, yticklabels=labels)\n",
        "    plt.xlabel('Predicted Class')\n",
        "    plt.ylabel('Original Class')\n",
        "    plt.title('Recall matrix')\n",
        "\n",
        "    plt.subplot(1,3,3)\n",
        "    sns.heatmap(B, annot=True, cmap=cmap, xticklabels = labels, yticklabels=labels)\n",
        "    plt.xlabel('Predicted Class')\n",
        "    plt.ylabel('Original Class')\n",
        "    plt.title('Precision matrix')\n",
        "\n",
        "    plt.show()"
      ]
    },
    {
      "cell_type": "code",
      "execution_count": null,
      "id": "c1ab800b-ac1b-4133-b9d0-f7da5a8cb484",
      "metadata": {
        "id": "c1ab800b-ac1b-4133-b9d0-f7da5a8cb484"
      },
      "outputs": [],
      "source": [
        "def cv_plot(alpha, cv_auc):\n",
        "\n",
        "    fig, ax = plt.subplots()\n",
        "    ax.plot(np.log10(alpha), cv_auc,c='g')\n",
        "    for i, txt in enumerate(np.round(cv_auc,3)):\n",
        "        ax.annotate((alpha[i],str(txt)), (np.log10(alpha[i]),cv_auc[i]))\n",
        "    plt.grid()\n",
        "    plt.xticks(np.log10(alpha))\n",
        "    plt.title(\"Cross Validation Error for each alpha\")\n",
        "    plt.xlabel(\"Alpha i's\")\n",
        "    plt.ylabel(\"Error measure\")\n",
        "    plt.show()"
      ]
    },
    {
      "cell_type": "markdown",
      "id": "b8e09059-95d1-473b-b50f-e3dcb9b3efbc",
      "metadata": {
        "id": "b8e09059-95d1-473b-b50f-e3dcb9b3efbc"
      },
      "source": [
        "ML MODELS"
      ]
    },
    {
      "cell_type": "code",
      "execution_count": null,
      "id": "Wg5KFPDeTblt",
      "metadata": {
        "id": "Wg5KFPDeTblt"
      },
      "outputs": [],
      "source": [
        "model_results = [[],[],[]]"
      ]
    },
    {
      "cell_type": "code",
      "execution_count": null,
      "id": "1e2da545-bfc7-472b-aa6d-2041d74039ae",
      "metadata": {
        "colab": {
          "base_uri": "https://localhost:8080/",
          "height": 718
        },
        "id": "1e2da545-bfc7-472b-aa6d-2041d74039ae",
        "outputId": "b999f79d-43f5-4e91-e1e7-c809035ae326"
      },
      "outputs": [],
      "source": [
        "#LOGISTIC REGRESSION\n",
        "\n",
        "alpha = np.logspace(-4,4,9)\n",
        "cv_auc_score = []\n",
        "for i in alpha:\n",
        "    clf = SGDClassifier(alpha=i, penalty='l1',class_weight = 'balanced', loss='log_loss', random_state=28)\n",
        "    clf.fit(X_train_final[selected_features], y_train)\n",
        "    sig_clf = CalibratedClassifierCV(clf, method='sigmoid')\n",
        "    sig_clf.fit(X_train_final[selected_features], y_train)\n",
        "    y_pred_prob = sig_clf.predict_proba(X_val_final[selected_features])[:,1]\n",
        "    cv_auc_score.append(roc_auc_score(y_val,y_pred_prob))\n",
        "    print('For alpha {0}, cross validation AUC score {1}'.format(i,roc_auc_score(y_val,y_pred_prob)))\n",
        "cv_plot(alpha, cv_auc_score)\n",
        "print('The Optimal C value is:', alpha[np.argmax(cv_auc_score)])"
      ]
    },
    {
      "cell_type": "code",
      "execution_count": null,
      "id": "775e2976-2e93-4f27-9c81-04e125fe1351",
      "metadata": {
        "colab": {
          "base_uri": "https://localhost:8080/",
          "height": 483
        },
        "id": "775e2976-2e93-4f27-9c81-04e125fe1351",
        "outputId": "190a6178-72a2-4cbf-aec9-cf35f9aaeca0"
      },
      "outputs": [],
      "source": [
        "best_alpha = alpha[np.argmax(cv_auc_score)]\n",
        "logreg = SGDClassifier(alpha = best_alpha, class_weight = 'balanced', penalty = 'l1', loss='log_loss', random_state = 28)\n",
        "logreg.fit(X_train_final[selected_features], y_train)\n",
        "logreg_sig_clf = CalibratedClassifierCV(logreg, method='sigmoid')\n",
        "logreg_sig_clf.fit(X_train_final[selected_features], y_train)\n",
        "y_pred_prob = logreg_sig_clf.predict_proba(X_train_final[selected_features])[:,1]\n",
        "print('For best alpha {0}, The Train AUC score is {1}'.format(best_alpha, roc_auc_score(y_train,y_pred_prob)))\n",
        "model_results[0].append(roc_auc_score(y_train,y_pred_prob))\n",
        "y_pred_prob = logreg_sig_clf.predict_proba(X_val_final[selected_features])[:,1]\n",
        "print('For best alpha {0}, The Cross validated AUC score is {1}'.format(best_alpha, roc_auc_score(y_val,y_pred_prob)))\n",
        "model_results[0].append(roc_auc_score(y_val,y_pred_prob))\n",
        "y_pred_prob = logreg_sig_clf.predict_proba(X_test_final[selected_features])[:,1]\n",
        "print('For best alpha {0}, The Test AUC score is {1}'.format(best_alpha, roc_auc_score(y_test,y_pred_prob)))\n",
        "model_results[0].append(roc_auc_score(y_test,y_pred_prob))\n",
        "y_pred = logreg.predict(X_test_final[selected_features])\n",
        "print('The test AUC score is :', roc_auc_score(y_test,y_pred_prob))\n",
        "print('The test accuracy score is :', accuracy_score(y_test, y_pred))\n",
        "model_results[0].append(accuracy_score(y_test,y_pred))\n",
        "print('The percentage of misclassified points {:05.2f}% :'.format((1-accuracy_score(y_test, y_pred))*100))\n",
        "plot_confusion_matrix(y_test, y_pred)"
      ]
    },
    {
      "cell_type": "code",
      "execution_count": null,
      "id": "50c36573-25c9-48b9-aa71-ebdaf55431c5",
      "metadata": {
        "colab": {
          "base_uri": "https://localhost:8080/",
          "height": 646
        },
        "id": "50c36573-25c9-48b9-aa71-ebdaf55431c5",
        "outputId": "5d1f0983-3116-40c2-ee48-fcb92aa3d3d4"
      },
      "outputs": [],
      "source": [
        "from sklearn.metrics import roc_curve\n",
        "fpr, tpr, thresholds = roc_curve(y_test, y_pred_prob)\n",
        "auc = roc_auc_score(y_test,y_pred_prob)\n",
        "plt.figure(figsize=(8,6))\n",
        "plt.plot(fpr, tpr, marker='.')\n",
        "plt.plot([0, 1], [0, 1], linestyle='--')\n",
        "plt.title('ROC curve', fontsize = 20)\n",
        "plt.xlabel('FPR', fontsize=15)\n",
        "plt.ylabel('TPR', fontsize=15)\n",
        "plt.grid()\n",
        "plt.legend([\"AUC=%.3f\"%auc])\n",
        "plt.show()"
      ]
    },
    {
      "cell_type": "code",
      "execution_count": null,
      "id": "54c6104c-8ecc-4c6e-9817-c5f858b7c9c5",
      "metadata": {
        "colab": {
          "base_uri": "https://localhost:8080/"
        },
        "id": "54c6104c-8ecc-4c6e-9817-c5f858b7c9c5",
        "outputId": "0dd6ad70-5cfe-4ce6-ea6d-7bc1154b3c68"
      },
      "outputs": [],
      "source": [
        "#RANDOM FOREST CLASSIFIER\n",
        "\n",
        "alpha = [200,500,1000]\n",
        "max_depth = [7, 10]\n",
        "cv_auc_score = []\n",
        "for i in alpha:\n",
        "    for j in max_depth:\n",
        "        clf = RandomForestClassifier(n_estimators=i, criterion='gini', max_depth=j,class_weight='balanced',\n",
        "                                     random_state=42, n_jobs=-1)\n",
        "        clf.fit(X_train_final[selected_features], y_train)\n",
        "        sig_clf = CalibratedClassifierCV(clf, method=\"sigmoid\")\n",
        "        sig_clf.fit(X_train_final[selected_features], y_train)\n",
        "        y_pred_prob = sig_clf.predict_proba(X_val_final[selected_features])[:,1]\n",
        "        cv_auc_score.append(roc_auc_score(y_val,y_pred_prob))\n",
        "        print('For n_estimators {0}, max_depth {1} cross validation AUC score {2}'.\n",
        "              format(i,j,roc_auc_score(y_val,y_pred_prob)))"
      ]
    },
    {
      "cell_type": "code",
      "execution_count": null,
      "id": "f0442662-e682-41c6-9c6a-72353a54c1c1",
      "metadata": {
        "colab": {
          "base_uri": "https://localhost:8080/"
        },
        "id": "f0442662-e682-41c6-9c6a-72353a54c1c1",
        "outputId": "579dea0a-3995-4071-c2f4-24f9ec7281db"
      },
      "outputs": [],
      "source": [
        "best_alpha = np.argmax(cv_auc_score)\n",
        "print('The optimal values are: n_estimators {0}, max_depth {1} '.format(alpha[int(best_alpha/2)],\n",
        "                                                                        max_depth[int(best_alpha%2)]))\n",
        "rf = RandomForestClassifier(n_estimators=alpha[int(best_alpha/2)], criterion='gini', max_depth=max_depth[int(best_alpha%2)],\n",
        "                            class_weight='balanced', random_state=42, n_jobs=-1)\n",
        "rf.fit(X_train_final[selected_features], y_train)\n",
        "rf_sig_clf = CalibratedClassifierCV(rf, method=\"sigmoid\")\n",
        "rf_sig_clf.fit(X_train_final[selected_features], y_train)\n",
        "y_pred_prob = rf_sig_clf.predict_proba(X_train_final[selected_features])[:,1]\n",
        "print('For best n_estimators {0} best max_depth {1}, The Train AUC score is {2}'.format(alpha[int(best_alpha/2)],\n",
        "                                                    max_depth[int(best_alpha%2)],roc_auc_score(y_train,y_pred_prob)))\n",
        "model_results[1].append(roc_auc_score(y_train,y_pred_prob))\n",
        "y_pred_prob = rf_sig_clf.predict_proba(X_val_final[selected_features])[:,1]\n",
        "print('For best n_estimators {0} best max_depth {1}, The Validation AUC score is {2}'.format(alpha[int(best_alpha/2)],\n",
        "                                                            max_depth[int(best_alpha%2)],roc_auc_score(y_val,y_pred_prob)))\n",
        "model_results[1].append(roc_auc_score(y_val,y_pred_prob))\n",
        "y_pred_prob = rf_sig_clf.predict_proba(X_test_final[selected_features])[:,1]\n",
        "print('For best n_estimators {0} best max_depth {1}, The Test AUC score is {2}'.format(alpha[int(best_alpha/2)],\n",
        "                                                        max_depth[int(best_alpha%2)],roc_auc_score(y_test,y_pred_prob)))\n",
        "model_results[1].append(roc_auc_score(y_test,y_pred_prob))\n",
        "y_pred = rf_sig_clf.predict(X_test_final[selected_features])\n",
        "print('The test AUC score is :', roc_auc_score(y_test,y_pred_prob))\n",
        "print('The accuracy score is :', accuracy_score(y_test, y_pred))\n",
        "model_results[1].append(accuracy_score(y_test,y_pred))\n",
        "print('The percentage of misclassified points {:05.2f}% :'.format((1-accuracy_score(y_test, y_pred))*100))\n",
        "plot_confusion_matrix(y_test, y_pred)"
      ]
    },
    {
      "cell_type": "code",
      "execution_count": null,
      "id": "TPfEP9hb6cUD",
      "metadata": {
        "colab": {
          "base_uri": "https://localhost:8080/"
        },
        "id": "TPfEP9hb6cUD",
        "outputId": "79b06c99-36d4-42a0-9ff2-bbf9741cf158"
      },
      "outputs": [],
      "source": [
        "from sklearn.metrics import roc_curve\n",
        "fpr, tpr, thresholds = roc_curve(y_test, y_pred_prob)\n",
        "auc = roc_auc_score(y_test,y_pred_prob)\n",
        "plt.figure(figsize=(8,6))\n",
        "plt.plot(fpr, tpr, marker='.')\n",
        "plt.plot([0, 1], [0, 1], linestyle='--')\n",
        "plt.title('ROC curve', fontsize = 20)\n",
        "plt.xlabel('FPR', fontsize=15)\n",
        "plt.ylabel('TPR', fontsize=15)\n",
        "plt.grid()\n",
        "plt.legend([\"AUC=%.3f\"%auc])\n",
        "plt.show()"
      ]
    },
    {
      "cell_type": "code",
      "execution_count": null,
      "id": "U0P6fBUv8ghJ",
      "metadata": {
        "colab": {
          "base_uri": "https://localhost:8080/",
          "height": 1000
        },
        "id": "U0P6fBUv8ghJ",
        "outputId": "9547ca33-b1a4-4504-896c-d6c921f8c27f"
      },
      "outputs": [],
      "source": [
        "#LIGHTGBM\n",
        "\n",
        "weight = np.ones((len(X_train_final),), dtype=int)\n",
        "for i in range(len(X_train_final)):\n",
        "    if y_train[i]== 0:\n",
        "        weight[i]=1\n",
        "    else:\n",
        "        weight[i]=11\n",
        "\n",
        "train_data=lgb.Dataset(X_train_final[selected_features], label = y_train, weight= weight )\n",
        "valid_data=lgb.Dataset(X_val_final[selected_features], label = y_val)\n",
        "cv_auc_score = []\n",
        "max_depth = [3, 5, 7, 10]\n",
        "for i in max_depth:\n",
        "\n",
        "    params = {'boosting_type': 'gbdt',\n",
        "          'max_depth' : i,\n",
        "          'objective': 'binary',\n",
        "          'nthread': 5,\n",
        "          'num_leaves': 32,\n",
        "          'learning_rate': 0.05,\n",
        "          'max_bin': 512,\n",
        "          'subsample_for_bin': 200,\n",
        "          'subsample': 0.7,\n",
        "          'subsample_freq': 1,\n",
        "          'colsample_bytree': 0.8,\n",
        "          'reg_alpha': 20,\n",
        "          'reg_lambda': 20,\n",
        "          'min_split_gain': 0.5,\n",
        "          'min_child_weight': 1,\n",
        "          'min_child_samples': 10,\n",
        "          'scale_pos_weight': 1,\n",
        "          'num_class' : 1,\n",
        "          'metric' : 'auc'\n",
        "          }\n",
        "lgbm = lgb.train(params,\n",
        "              train_data,\n",
        "              2500,\n",
        "              valid_sets=valid_data\n",
        "              )\n",
        "y_pred_prob = lgbm.predict(X_val_final[selected_features])\n",
        "cv_auc_score.append(roc_auc_score(y_val,y_pred_prob))\n",
        "print('For  max_depth {0} and some other parameters, cross validation AUC score {1}'.format(i,roc_auc_score(y_val,y_pred_prob)))\n",
        "print('The optimal  max_depth: ', max_depth[np.argmax(cv_auc_score)])\n",
        "params = {'boosting_type': 'gbdt',\n",
        "      'max_depth' : max_depth[np.argmax(cv_auc_score)],\n",
        "      'objective': 'binary',\n",
        "      'nthread': 5,\n",
        "      'num_leaves': 32,\n",
        "      'learning_rate': 0.05,\n",
        "      'max_bin': 512,\n",
        "      'subsample_for_bin': 200,\n",
        "      'subsample': 0.7,\n",
        "      'subsample_freq': 1,\n",
        "      'colsample_bytree': 0.8,\n",
        "      'reg_alpha': 20,\n",
        "      'reg_lambda': 20,\n",
        "      'min_split_gain': 0.5,\n",
        "      'min_child_weight': 1,\n",
        "      'min_child_samples': 10,\n",
        "      'scale_pos_weight': 1,\n",
        "      'num_class' : 1,\n",
        "      'metric' : 'auc'\n",
        "      }\n",
        "lgbm = lgb.train(params,\n",
        "                 train_data,\n",
        "                 2500,\n",
        "                 valid_sets=valid_data\n",
        "                 )\n",
        "y_pred_prob = lgbm.predict(X_train_final[selected_features])\n",
        "print('For best max_depth {0}, The Train AUC score is {1}'.format(max_depth[np.argmax(cv_auc_score)],\n",
        "                                                                  roc_auc_score(y_train,y_pred_prob) ))\n",
        "model_results[2].append(roc_auc_score(y_train,y_pred_prob))\n",
        "y_pred_prob = lgbm.predict(X_val_final[selected_features])\n",
        "print('For best max_depth {0}, The Cross validated AUC score is {1}'.format(max_depth[np.argmax(cv_auc_score)],\n",
        "                                                                            roc_auc_score(y_val,y_pred_prob) ))\n",
        "model_results[2].append(roc_auc_score(y_val,y_pred_prob))\n",
        "y_pred_prob = lgbm.predict(X_test_final[selected_features])\n",
        "print('For best max_depth {0}, The Test AUC score is {1}'.format(max_depth[np.argmax(cv_auc_score)],\n",
        "                                                                 roc_auc_score(y_test,y_pred_prob) ))\n",
        "model_results[2].append(roc_auc_score(y_test,y_pred_prob))\n",
        "y_pred = np.ones((len(X_test_final),), dtype=int)\n",
        "for i in range(len(y_pred_prob)):\n",
        "    if y_pred_prob[i]<=0.5:\n",
        "        y_pred[i]=0\n",
        "    else:\n",
        "        y_pred[i]=1\n",
        "print('The test AUC score is :', roc_auc_score(y_test,y_pred_prob))\n",
        "print('The accuracy score is :', accuracy_score(y_test, y_pred))\n",
        "model_results[2].append(accuracy_score(y_test,y_pred))\n",
        "print('The percentage of misclassified points {:05.2f}% :'.format((1-accuracy_score(y_test, y_pred))*100))\n",
        "plot_confusion_matrix(y_test, y_pred)"
      ]
    },
    {
      "cell_type": "code",
      "execution_count": null,
      "id": "nZolZykq-E8R",
      "metadata": {
        "colab": {
          "base_uri": "https://localhost:8080/",
          "height": 646
        },
        "id": "nZolZykq-E8R",
        "outputId": "8823d0af-2c84-4da9-92c7-69ab7ac7b755"
      },
      "outputs": [],
      "source": [
        "from sklearn.metrics import roc_curve\n",
        "fpr, tpr, thresholds = roc_curve(y_test, y_pred_prob)\n",
        "auc = roc_auc_score(y_test,y_pred_prob)\n",
        "plt.figure(figsize=(8,6))\n",
        "plt.plot(fpr, tpr, marker='.')\n",
        "plt.plot([0, 1], [0, 1], linestyle='--')\n",
        "plt.title('ROC curve', fontsize = 20)\n",
        "plt.xlabel('FPR', fontsize=15)\n",
        "plt.ylabel('TPR', fontsize=15)\n",
        "plt.grid()\n",
        "plt.legend([\"AUC=%.3f\"%auc])\n",
        "plt.show()"
      ]
    },
    {
      "cell_type": "code",
      "execution_count": null,
      "id": "BiHwEyxlUdfb",
      "metadata": {
        "colab": {
          "base_uri": "https://localhost:8080/",
          "height": 143
        },
        "id": "BiHwEyxlUdfb",
        "outputId": "5b53b473-2154-4f82-ffce-a23fcf528ebf"
      },
      "outputs": [],
      "source": [
        "eval_score = pd.DataFrame(model_results, columns=['Train AUC','Cross Val AUC','Test AUC','Accuracy'], index=['Logistic Regression','Random Forest','LightGBM'])\n",
        "eval_score"
      ]
    },
    {
      "cell_type": "code",
      "execution_count": null,
      "id": "JKd50-xifUmF",
      "metadata": {
        "id": "JKd50-xifUmF"
      },
      "outputs": [],
      "source": [
        "# Saving the best performing LightGBM model as a pickle file for the future use\n",
        "with open('final_model.pkl','wb') as fp:\n",
        "    pickle.dump(lgbm, fp)"
      ]
    }
  ],
  "metadata": {
    "accelerator": "TPU",
    "colab": {
      "gpuType": "V28",
      "provenance": []
    },
    "kernelspec": {
      "display_name": "Python 3",
      "name": "python3"
    },
    "language_info": {
      "codemirror_mode": {
        "name": "ipython",
        "version": 3
      },
      "file_extension": ".py",
      "mimetype": "text/x-python",
      "name": "python",
      "nbconvert_exporter": "python",
      "pygments_lexer": "ipython3",
      "version": "3.8.10"
    }
  },
  "nbformat": 4,
  "nbformat_minor": 5
}
